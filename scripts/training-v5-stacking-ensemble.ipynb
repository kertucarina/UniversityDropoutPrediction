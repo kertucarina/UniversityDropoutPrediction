{
 "cells": [
  {
   "cell_type": "markdown",
   "id": "98b9bdd3",
   "metadata": {},
   "source": [
    "# Training the model: stacking ensemble"
   ]
  },
  {
   "cell_type": "code",
   "execution_count": 1,
   "id": "5e94e7a9",
   "metadata": {},
   "outputs": [],
   "source": [
    "import joblib\n",
    "import pandas as pd\n",
    "import numpy as np\n",
    "import xgboost as xgb\n",
    "import matplotlib.pyplot as plt\n",
    "import random\n",
    "\n",
    "from sklearn.model_selection import train_test_split, cross_val_score, KFold\n",
    "from sklearn.metrics import accuracy_score, precision_score, recall_score, f1_score, roc_auc_score, roc_curve\n",
    "from sklearn.metrics import roc_auc_score, roc_curve\n",
    "from sklearn.pipeline import make_pipeline\n",
    "from sklearn.metrics import classification_report\n",
    "\n",
    "from sklearn.ensemble import RandomForestClassifier, StackingClassifier\n",
    "from sklearn.linear_model import LogisticRegression\n",
    "\n",
    "from imblearn.over_sampling import SMOTE"
   ]
  },
  {
   "cell_type": "code",
   "execution_count": 2,
   "id": "220cb55e",
   "metadata": {},
   "outputs": [],
   "source": [
    "# Change file name (path) as necessary\n",
    "# Read the data\n",
    "df = pd.read_csv(\"../data/bachelor/df_training.csv\", sep=',')\n",
    "\n",
    "pd.set_option('display.max_columns', 47)\n",
    "#df.head()"
   ]
  },
  {
   "cell_type": "code",
   "execution_count": 3,
   "id": "e2ba0798",
   "metadata": {},
   "outputs": [],
   "source": [
    "# Encode categorical features\n",
    "df[\"study.level\"] = df[\"study.level\"].astype('category')\n",
    "df[\"study.level\"] = df[\"study.level\"].cat.codes\n",
    "\n",
    "df[\"curriculum.UUID\"] = df[\"curriculum.UUID\"].astype('category')\n",
    "df[\"curriculum.UUID\"] = df[\"curriculum.UUID\"].cat.codes\n",
    "\n",
    "df[\"faculty.code\"] = df[\"faculty.code\"].astype('category')\n",
    "df[\"faculty.code\"] = df[\"faculty.code\"].cat.codes\n",
    "\n",
    "df[\"prev.study.level\"] = df[\"prev.study.level\"].astype('category')\n",
    "df[\"prev.study.level\"] = df[\"prev.study.level\"].cat.codes\n",
    "\n",
    "df[\"workload\"] = df[\"workload\"].astype('category')\n",
    "df[\"workload\"] = df[\"workload\"].cat.codes"
   ]
  },
  {
   "cell_type": "code",
   "execution_count": 4,
   "id": "70170309",
   "metadata": {},
   "outputs": [],
   "source": [
    "# Drop person.UUID, study.place.UUID, debug.study.place.ID and debug.student.matricula.nr,\n",
    "# because it's not reasonable to encode/use them.\n",
    "df = df.drop([\"person.UUID\", \"study.place.UUID\", \"debug.study.place.ID\", \"debug.student.matricula.nr\"], axis=1)"
   ]
  },
  {
   "cell_type": "code",
   "execution_count": 5,
   "id": "5514ac55",
   "metadata": {},
   "outputs": [],
   "source": [
    "# Ensure reproducibility\n",
    "random.seed(10)"
   ]
  },
  {
   "cell_type": "code",
   "execution_count": 6,
   "id": "05acfb96",
   "metadata": {},
   "outputs": [],
   "source": [
    "# Get X and y from data\n",
    "X = df.drop('dropout', axis=1)\n",
    "y = df['dropout']\n",
    "\n",
    "# Separate\n",
    "X_train, X_test, y_train, y_test = train_test_split(X, y, test_size=0.2, random_state=0)"
   ]
  },
  {
   "cell_type": "code",
   "execution_count": 7,
   "id": "525a1e6e",
   "metadata": {},
   "outputs": [],
   "source": [
    "# Use SMOTE to oversample the training data\n",
    "os = SMOTE(random_state=0)\n",
    "X_train_os, y_train_os = os.fit_resample(X_train, y_train)"
   ]
  },
  {
   "cell_type": "code",
   "execution_count": 8,
   "id": "e30ce807",
   "metadata": {},
   "outputs": [],
   "source": [
    "# Load the saved models\n",
    "rf_model = joblib.load('../models/best_rf_model.pkl')\n",
    "xgb_model = joblib.load('../models/best_xgb_model.pkl')\n",
    "logreg_model = joblib.load('../models/best_logreg_model.pkl')"
   ]
  },
  {
   "cell_type": "code",
   "execution_count": 9,
   "id": "98843bb9",
   "metadata": {},
   "outputs": [],
   "source": [
    "# Get individual predictions\n",
    "rf_preds = rf_model.predict(X_test)\n",
    "xgb_preds = xgb_model.predict(X_test)\n",
    "logreg_preds = logreg_model.predict(X_test)"
   ]
  },
  {
   "cell_type": "code",
   "execution_count": 10,
   "id": "86690680",
   "metadata": {},
   "outputs": [
    {
     "name": "stdout",
     "output_type": "stream",
     "text": [
      "Random Forest accuracy: 0.84858262272413\n",
      "Random Forest precision: 0.6836477987421383\n",
      "Random Forest recall: 0.8759065269943593\n",
      "Random Forest F1-score: 0.7679265277287177\n",
      "Random Forest mean cross-validation score: 0.717362085634062 \n",
      "\n",
      "XGBoost accuracy: 0.8642544365061074\n",
      "XGBoost precision: 0.7462235649546828\n",
      "XGBoost recall: 0.7961321514907332\n",
      "XGBoost F1-score: 0.7703703703703704\n",
      "XGBoost mean cross-validation score: 0.5252714459531791 \n",
      "\n",
      "Logistic Regression accuracy: 0.8418990550818161\n",
      "Logistic Regression precision: 0.696113074204947\n",
      "Logistic Regression recall: 0.7937147461724415\n",
      "Logistic Regression F1-score: 0.7417168674698794\n",
      "Logistic Regression mean cross-validation score: 0.7196537162487932 \n",
      "\n"
     ]
    }
   ],
   "source": [
    "# Get metrics\n",
    "predictions = [rf_preds, xgb_preds, logreg_preds]\n",
    "algorithms = [\"Random Forest\", \"XGBoost\", \"Logistic Regression\"]\n",
    "models = [rf_model, xgb_model, logreg_model]\n",
    "for i in range(3):\n",
    "    accuracy = accuracy_score(y_test, predictions[i])\n",
    "    precision = precision_score(y_test, predictions[i])\n",
    "    recall = recall_score(y_test, predictions[i])\n",
    "    fscore = f1_score(y_test, predictions[i])\n",
    "    cross_val = cross_val_score(models[i], X, y, cv=10, scoring=\"f1\").mean()\n",
    "    print(algorithms[i], \"accuracy:\", accuracy)\n",
    "    print(algorithms[i], \"precision:\", precision)\n",
    "    print(algorithms[i], \"recall:\", recall)\n",
    "    print(algorithms[i], \"F1-score:\", fscore,)\n",
    "    print(algorithms[i], \"mean cross-validation score:\", cross_val, \"\\n\")"
   ]
  },
  {
   "cell_type": "markdown",
   "id": "fd592576",
   "metadata": {},
   "source": [
    "### Meta-classifier"
   ]
  },
  {
   "cell_type": "code",
   "execution_count": 11,
   "id": "e010a068",
   "metadata": {},
   "outputs": [],
   "source": [
    "# Create stacked ensemble model\n",
    "estimators = [\n",
    "    ('rf', RandomForestClassifier(n_estimators=300, max_depth=15, min_samples_split=2, random_state=42)),\n",
    "    ('xgb', xgb.XGBClassifier(learning_rate=0.1, max_depth=7, n_estimators=200, subsample=0.8, colsample_bytree=1.0, random_state=42)),\n",
    "    ('logit', LogisticRegression(C=10, penalty='l2', solver='liblinear', random_state=42))\n",
    "]\n",
    "\n",
    "meta_model = StackingClassifier(estimators=estimators, final_estimator=LogisticRegression(random_state=42))"
   ]
  },
  {
   "cell_type": "code",
   "execution_count": 12,
   "id": "78c937e1",
   "metadata": {},
   "outputs": [
    {
     "data": {
      "text/plain": [
       "StackingClassifier(estimators=[('rf',\n",
       "                                RandomForestClassifier(max_depth=15,\n",
       "                                                       n_estimators=300,\n",
       "                                                       random_state=42)),\n",
       "                               ('xgb',\n",
       "                                XGBClassifier(base_score=None, booster=None,\n",
       "                                              callbacks=None,\n",
       "                                              colsample_bylevel=None,\n",
       "                                              colsample_bynode=None,\n",
       "                                              colsample_bytree=1.0,\n",
       "                                              early_stopping_rounds=None,\n",
       "                                              enable_categorical=False,\n",
       "                                              eval_metric=None,\n",
       "                                              feature_types=None, gamma=None,\n",
       "                                              gpu_id=None,...\n",
       "                                              max_cat_threshold=None,\n",
       "                                              max_cat_to_onehot=None,\n",
       "                                              max_delta_step=None, max_depth=7,\n",
       "                                              max_leaves=None,\n",
       "                                              min_child_weight=None,\n",
       "                                              missing=nan,\n",
       "                                              monotone_constraints=None,\n",
       "                                              n_estimators=200, n_jobs=None,\n",
       "                                              num_parallel_tree=None,\n",
       "                                              predictor=None, random_state=42, ...)),\n",
       "                               ('logit',\n",
       "                                LogisticRegression(C=10, random_state=42,\n",
       "                                                   solver='liblinear'))],\n",
       "                   final_estimator=LogisticRegression(random_state=42))"
      ]
     },
     "execution_count": 12,
     "metadata": {},
     "output_type": "execute_result"
    }
   ],
   "source": [
    "meta_model.fit(X_train, y_train)"
   ]
  },
  {
   "cell_type": "code",
   "execution_count": 13,
   "id": "0aef834f",
   "metadata": {},
   "outputs": [],
   "source": [
    "# Get predictions on the test set\n",
    "meta_preds = meta_model.predict(X_test)"
   ]
  },
  {
   "cell_type": "code",
   "execution_count": 14,
   "id": "b1b90619",
   "metadata": {},
   "outputs": [
    {
     "name": "stdout",
     "output_type": "stream",
     "text": [
      "Accuracy: 0.862\n",
      "Precision: 0.777\n",
      "Recall: 0.725\n",
      "F1-score: 0.750\n",
      "Mean cross-validation score: 0.72\n"
     ]
    }
   ],
   "source": [
    "# Calculate the evaluation metrics\n",
    "accuracy = accuracy_score(y_test, meta_preds)\n",
    "precision = precision_score(y_test, meta_preds)\n",
    "recall = recall_score(y_test, meta_preds)\n",
    "f1 = f1_score(y_test, meta_preds)\n",
    "cross_val = cross_val_score(meta_model, X, y, cv=10, scoring=\"f1\").mean()\n",
    "\n",
    "# Print the evaluation metrics\n",
    "print(\"Accuracy: %.3f\" % accuracy)\n",
    "print(\"Precision: %.3f\" % precision)\n",
    "print(\"Recall: %.3f\" % recall)\n",
    "print(\"F1-score: %.3f\" % f1)\n",
    "print(\"Mean cross-validation score: %0.2f\" % cross_val)"
   ]
  },
  {
   "cell_type": "code",
   "execution_count": 15,
   "id": "7489ada0",
   "metadata": {},
   "outputs": [
    {
     "name": "stdout",
     "output_type": "stream",
     "text": [
      "Figure successfully saved to disk.\n"
     ]
    },
    {
     "data": {
      "image/png": "[encoded data removed]",
      "text/plain": [
       "<Figure size 640x480 with 1 Axes>"
      ]
     },
     "metadata": {},
     "output_type": "display_data"
    }
   ],
   "source": [
    "# Compute ROC curve and ROC-AUC score\n",
    "ensemble_proba = meta_model.predict_proba(X_test)[:, 1] \n",
    "fpr, tpr, thresholds = roc_curve(y_test.values, ensemble_proba)\n",
    "roc_auc = roc_auc_score(y_test.values, ensemble_proba)\n",
    "\n",
    "# Plot ROC curve\n",
    "plt.plot(fpr, tpr, label='ROC curve (AUC = %0.2f)' % roc_auc)\n",
    "plt.plot([0, 1], [0, 1], linestyle='--', color='gray', label='Random guessing')\n",
    "plt.xlabel('False Positive Rate')\n",
    "plt.ylabel('True Positive Rate')\n",
    "plt.title('Ensemble model Receiver Operating Characteristic')\n",
    "plt.legend()\n",
    "\n",
    "# Save figure to disk\n",
    "plt.savefig(\"../output/ensemble_roc_curve.jpg\")\n",
    "print(\"Figure successfully saved to disk.\")\n",
    "\n",
    "plt.show()"
   ]
  },
  {
   "cell_type": "code",
   "execution_count": 16,
   "id": "7684fed0",
   "metadata": {},
   "outputs": [
    {
     "name": "stdout",
     "output_type": "stream",
     "text": [
      "Metrics successfully saved to disk.\n"
     ]
    }
   ],
   "source": [
    "# Save metrics to disk\n",
    "metrics = pd.DataFrame(\n",
    "        {'Accuracy': accuracy,\n",
    "         'Precision': precision,\n",
    "         'Recall': recall,\n",
    "         'F1-score': f1,\n",
    "         'ROC-AUC': roc_auc_score,\n",
    "         'Mean cross-validation score': cross_val_score \n",
    "         }, index=[0])\n",
    "\n",
    "metrics.to_csv(\"../output/ensemble_metrics.csv\")\n",
    "print(\"Metrics successfully saved to disk.\")"
   ]
  },
  {
   "cell_type": "code",
   "execution_count": 17,
   "id": "6a44f5fa",
   "metadata": {},
   "outputs": [
    {
     "name": "stdout",
     "output_type": "stream",
     "text": [
      "Ensemble model successfully saved to disk.\n"
     ]
    }
   ],
   "source": [
    "# Save the final ensemble model to disk\n",
    "joblib.dump(meta_model, '../models/final_ensemble_model.pkl')\n",
    "print(\"Ensemble model successfully saved to disk.\")"
   ]
  }
 ],
 "metadata": {
  "kernelspec": {
   "display_name": "Python 3 (ipykernel)",
   "language": "python",
   "name": "python3"
  },
  "language_info": {
   "codemirror_mode": {
    "name": "ipython",
    "version": 3
   },
   "file_extension": ".py",
   "mimetype": "text/x-python",
   "name": "python",
   "nbconvert_exporter": "python",
   "pygments_lexer": "ipython3",
   "version": "3.9.13"
  }
 },
 "nbformat": 4,
 "nbformat_minor": 5
}
