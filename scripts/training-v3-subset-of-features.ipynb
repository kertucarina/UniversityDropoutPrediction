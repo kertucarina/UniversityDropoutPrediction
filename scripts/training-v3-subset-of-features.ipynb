{
 "cells": [
  {
   "cell_type": "markdown",
   "id": "53ffb587",
   "metadata": {},
   "source": [
    "# Training the models - Version 3\n",
    "Keeping only the most important features (according to Random Forest Classifiers)."
   ]
  },
  {
   "cell_type": "markdown",
   "id": "90240305",
   "metadata": {},
   "source": [
    "#### Preparations"
   ]
  },
  {
   "cell_type": "code",
   "execution_count": 1,
   "id": "df5ffd86",
   "metadata": {},
   "outputs": [],
   "source": [
    "import pandas as pd\n",
    "import numpy as np\n",
    "import random\n",
    "import matplotlib.pyplot as plt\n",
    "from sklearn.model_selection import train_test_split\n",
    "from sklearn.metrics import precision_recall_fscore_support\n",
    "from sklearn.metrics import roc_curve\n",
    "from sklearn.metrics import accuracy_score, precision_score, recall_score, f1_score, roc_auc_score\n",
    "\n",
    "\n",
    "from sklearn.tree import DecisionTreeClassifier\n",
    "from sklearn.ensemble import RandomForestClassifier\n",
    "from sklearn.neighbors import KNeighborsClassifier\n",
    "from sklearn.naive_bayes import GaussianNB\n",
    "from sklearn.ensemble import AdaBoostClassifier\n",
    "\n",
    "from imblearn.over_sampling import RandomOverSampler\n",
    "from imblearn.under_sampling import RandomUnderSampler"
   ]
  },
  {
   "cell_type": "code",
   "execution_count": 2,
   "id": "12d2f4f3",
   "metadata": {},
   "outputs": [],
   "source": [
    "# Change file name (path) as necessary\n",
    "# Read the data\n",
    "df = pd.read_csv(\"../data/bachelor/df_training.csv\", sep=',')\n",
    "\n",
    "pd.set_option('display.max_columns', 47)\n",
    "random.seed(10)\n",
    "#df.head()"
   ]
  },
  {
   "cell_type": "code",
   "execution_count": 3,
   "id": "69e26f97",
   "metadata": {},
   "outputs": [
    {
     "data": {
      "text/plain": [
       "id                                int64\n",
       "person.UUID                      object\n",
       "study.place.UUID                 object\n",
       "debug.study.place.ID              int64\n",
       "debug.student.matricula.nr       object\n",
       "study.level                      object\n",
       "code.of.curriculum                int64\n",
       "curriculum.UUID                  object\n",
       "faculty.code                     object\n",
       "year_immatriculation              int64\n",
       "year_exmatriculation              int64\n",
       "semester_current                float64\n",
       "study_period_in_years             int64\n",
       "dropout                           int64\n",
       "admission.special.conditions    float64\n",
       "prev.study.level                 object\n",
       "prev.study.level.factor           int64\n",
       "nr.of.previous.studies.in.UT      int64\n",
       "nr.of.previous.finished           int64\n",
       "normalized_score                float64\n",
       "cum.credits.earned              float64\n",
       "cum.extracurricular.credits     float64\n",
       "cum.all.results                   int64\n",
       "cum.negative.results              int64\n",
       "cum.grade.A                       int64\n",
       "cum.grade.B                       int64\n",
       "cum.grade.C                       int64\n",
       "cum.grade.D                       int64\n",
       "cum.grade.E                       int64\n",
       "cum.grade.F                       int64\n",
       "cum.passed                        int64\n",
       "cum.not.passed                    int64\n",
       "cum.not.present                   int64\n",
       "sum_passed_grade                  int64\n",
       "sum_failed_grade                  int64\n",
       "days.on.academic.leave            int64\n",
       "days.studying.abroad              int64\n",
       "days.as.visiting.student          int64\n",
       "credits.cancelled.during.2w     float64\n",
       "nr.of.courses.registered          int64\n",
       "nr.of.courses.with.any.grade      int64\n",
       "credits.registered              float64\n",
       "nr.of.employment.contracts        int64\n",
       "workload                         object\n",
       "total_economic_support          float64\n",
       "on.extended.study.period          int64\n",
       "active                            int64\n",
       "nr.of.previous.unfinished         int64\n",
       "dtype: object"
      ]
     },
     "execution_count": 3,
     "metadata": {},
     "output_type": "execute_result"
    }
   ],
   "source": [
    "# Check data types\n",
    "df.dtypes"
   ]
  },
  {
   "cell_type": "code",
   "execution_count": 4,
   "id": "91de82c4",
   "metadata": {},
   "outputs": [],
   "source": [
    "# Keep only certain features\n",
    "selected_columns = ['cum.credits.earned', 'sum_passed_grade', 'cum.all.results', 'cum.grade.A', 'cum.grade.B', 'cum.passed', 'cum.not.present', 'normalized_score', 'semester_current', 'id', 'dropout']\n",
    "df = df.loc[:, selected_columns]"
   ]
  },
  {
   "cell_type": "markdown",
   "id": "c20676bc",
   "metadata": {},
   "source": [
    "## 1) No Sampling"
   ]
  },
  {
   "cell_type": "code",
   "execution_count": 5,
   "id": "ebb959b4",
   "metadata": {},
   "outputs": [],
   "source": [
    "# Get X and y from data\n",
    "X1 = df.drop('dropout', axis=1)\n",
    "y1 = df['dropout']"
   ]
  },
  {
   "cell_type": "code",
   "execution_count": 6,
   "id": "138beb4a",
   "metadata": {},
   "outputs": [],
   "source": [
    "# Separate \n",
    "X_train_1, X_test_1, y_train_1, y_test_1 = train_test_split(X1, y1, test_size=0.2, random_state=0)\n",
    "X_val_1, X_test_1, y_val_1, y_test_1 = train_test_split(X_test_1, y_test_1, test_size=0.5, random_state=0)"
   ]
  },
  {
   "cell_type": "code",
   "execution_count": 7,
   "id": "41e4357f",
   "metadata": {},
   "outputs": [],
   "source": [
    "# Decision Tree\n",
    "model_tree_1 = DecisionTreeClassifier()\n",
    "model_tree_1 = model_tree_1.fit(X_train_1, y_train_1)\n",
    "\n",
    "tree_pred = model_tree_1.predict(X_val_1)\n",
    "\n",
    "tree_fscore = f1_score(y_val_1, tree_pred)"
   ]
  },
  {
   "cell_type": "code",
   "execution_count": 8,
   "id": "9b938e42",
   "metadata": {},
   "outputs": [],
   "source": [
    "# Random Forest\n",
    "model_randomForest_1 = RandomForestClassifier()\n",
    "model_randomForest_1 = model_randomForest_1.fit(X_train_1, y_train_1)\n",
    "\n",
    "randomForest_pred = model_randomForest_1.predict(X_val_1)\n",
    "\n",
    "randomForest_fscore = f1_score(y_val_1, randomForest_pred)"
   ]
  },
  {
   "cell_type": "code",
   "execution_count": 9,
   "id": "70024e37",
   "metadata": {},
   "outputs": [
    {
     "name": "stderr",
     "output_type": "stream",
     "text": [
      "/Users/Kertu/opt/anaconda3/lib/python3.9/site-packages/sklearn/neighbors/_classification.py:228: FutureWarning: Unlike other reduction functions (e.g. `skew`, `kurtosis`), the default behavior of `mode` typically preserves the axis it acts along. In SciPy 1.11.0, this behavior will change: the default value of `keepdims` will become False, the `axis` over which the statistic is taken will be eliminated, and the value None will no longer be accepted. Set `keepdims` to True or False to avoid this warning.\n",
      "  mode, _ = stats.mode(_y[neigh_ind, k], axis=1)\n"
     ]
    }
   ],
   "source": [
    "# K-nearest neighbors\n",
    "model_KNN_1 = KNeighborsClassifier()\n",
    "model_KNN_1 = model_KNN_1.fit(X_train_1, y_train_1)\n",
    "\n",
    "KNN_pred = model_KNN_1.predict(X_val_1)\n",
    "\n",
    "KNN_fscore = f1_score(y_val_1, KNN_pred)"
   ]
  },
  {
   "cell_type": "code",
   "execution_count": 10,
   "id": "646a3536",
   "metadata": {},
   "outputs": [],
   "source": [
    "# GaussianNB\n",
    "model_GaussianNB_1 = GaussianNB()\n",
    "model_GaussianNB_1 = model_GaussianNB_1.fit(X_train_1, y_train_1)\n",
    "\n",
    "GaussianNB_pred = model_GaussianNB_1.predict(X_val_1)\n",
    "\n",
    "GaussianNB_fscore = f1_score(y_val_1, GaussianNB_pred)"
   ]
  },
  {
   "cell_type": "code",
   "execution_count": 11,
   "id": "8a01cb95",
   "metadata": {},
   "outputs": [],
   "source": [
    "# AdaBoost\n",
    "model_AdaBoost_1 = AdaBoostClassifier()\n",
    "model_AdaBoost_1 = model_AdaBoost_1.fit(X_train_1, y_train_1)\n",
    "\n",
    "AdaBoost_pred = model_AdaBoost_1.predict(X_val_1)\n",
    "\n",
    "AdaBoost_pred = f1_score(y_val_1, AdaBoost_pred)"
   ]
  },
  {
   "cell_type": "code",
   "execution_count": 12,
   "id": "887b20bc",
   "metadata": {},
   "outputs": [
    {
     "name": "stdout",
     "output_type": "stream",
     "text": [
      "F-scores on non-sampled data\n",
      "\tDecision tree: 0.6354344122657581\n",
      "\tRandom forest: 0.7048092868988391\n",
      "\tK Neighbors:   0.6881355932203389\n",
      "\tGaussianNB:    0.7452896022330774\n",
      "\tAda Boost:     0.7441154138192861\n"
     ]
    }
   ],
   "source": [
    "print(\"F-scores on non-sampled data\")\n",
    "print(\"\\tDecision tree:\", tree_fscore)\n",
    "print(\"\\tRandom forest:\", randomForest_fscore)\n",
    "print(\"\\tK Neighbors:  \", KNN_fscore)\n",
    "print(\"\\tGaussianNB:   \", GaussianNB_fscore)\n",
    "print(\"\\tAda Boost:    \", AdaBoost_pred)"
   ]
  },
  {
   "cell_type": "markdown",
   "id": "405cf9f0",
   "metadata": {},
   "source": [
    "## 2) Undersampling"
   ]
  },
  {
   "cell_type": "code",
   "execution_count": 13,
   "id": "063ee209",
   "metadata": {},
   "outputs": [],
   "source": [
    "# Split data into X and y (separate the features and labels)\n",
    "X2 = df.drop('dropout', axis=1)\n",
    "y2 = df['dropout']\n",
    "\n",
    "# Separate into test, train and validation sets\n",
    "X_train_2, X_test_2, y_train_2, y_test_2 = train_test_split(X2, y2, test_size=0.2, random_state=0)\n",
    "X_val_2, X_test_2, y_val_2, y_test_2 = train_test_split(X_test_2, y_test_2, test_size=0.5, random_state=0)\n",
    "\n",
    "# Perform undersampling on the training set\n",
    "rus = RandomUnderSampler(random_state=0)\n",
    "X_train_undersampled, y_train_undersampled = rus.fit_resample(X_train_2, y_train_2)"
   ]
  },
  {
   "cell_type": "code",
   "execution_count": 14,
   "id": "600aedb9",
   "metadata": {},
   "outputs": [],
   "source": [
    "# Decision Tree\n",
    "model_tree_2 = DecisionTreeClassifier()\n",
    "model_tree_2 = model_tree_2.fit(X_train_undersampled, y_train_undersampled)\n",
    "\n",
    "tree_pred = model_tree_2.predict(X_val_2)\n",
    "\n",
    "tree_fscore = f1_score(y_val_2, tree_pred)"
   ]
  },
  {
   "cell_type": "code",
   "execution_count": 15,
   "id": "326fb2da",
   "metadata": {},
   "outputs": [],
   "source": [
    "# Random Forest\n",
    "model_randomForest_2 = RandomForestClassifier()\n",
    "model_randomForest_2 = model_randomForest_2.fit(X_train_undersampled, y_train_undersampled)\n",
    "\n",
    "randomForest_pred = model_randomForest_2.predict(X_val_2)\n",
    "\n",
    "randomForest_fscore = f1_score(y_val_2, randomForest_pred)"
   ]
  },
  {
   "cell_type": "code",
   "execution_count": 16,
   "id": "25325819",
   "metadata": {},
   "outputs": [
    {
     "name": "stderr",
     "output_type": "stream",
     "text": [
      "/Users/Kertu/opt/anaconda3/lib/python3.9/site-packages/sklearn/neighbors/_classification.py:228: FutureWarning: Unlike other reduction functions (e.g. `skew`, `kurtosis`), the default behavior of `mode` typically preserves the axis it acts along. In SciPy 1.11.0, this behavior will change: the default value of `keepdims` will become False, the `axis` over which the statistic is taken will be eliminated, and the value None will no longer be accepted. Set `keepdims` to True or False to avoid this warning.\n",
      "  mode, _ = stats.mode(_y[neigh_ind, k], axis=1)\n"
     ]
    }
   ],
   "source": [
    "# K-nearest neighbors\n",
    "model_KNN_2 = KNeighborsClassifier()\n",
    "model_KNN_2 = model_KNN_2.fit(X_train_undersampled, y_train_undersampled)\n",
    "\n",
    "KNN_pred = model_KNN_2.predict(X_val_2)\n",
    "\n",
    "KNN_fscore = f1_score(y_val_2, KNN_pred)"
   ]
  },
  {
   "cell_type": "code",
   "execution_count": 17,
   "id": "672aa850",
   "metadata": {},
   "outputs": [],
   "source": [
    "# GaussianNB\n",
    "model_GaussianNB_2 = GaussianNB()\n",
    "model_GaussianNB_2 = model_GaussianNB_2.fit(X_train_undersampled, y_train_undersampled)\n",
    "\n",
    "GaussianNB_pred = model_GaussianNB_2.predict(X_val_2)\n",
    "\n",
    "GaussianNB_fscore = f1_score(y_val_2, GaussianNB_pred)"
   ]
  },
  {
   "cell_type": "code",
   "execution_count": 18,
   "id": "9eef6689",
   "metadata": {},
   "outputs": [],
   "source": [
    "# AdaBoost\n",
    "model_AdaBoost_2 = AdaBoostClassifier()\n",
    "model_AdaBoost_2 = model_AdaBoost_2.fit(X_train_undersampled, y_train_undersampled)\n",
    "\n",
    "AdaBoost_pred = model_AdaBoost_2.predict(X_val_2)\n",
    "\n",
    "AdaBoost_pred = f1_score(y_val_2, AdaBoost_pred)"
   ]
  },
  {
   "cell_type": "code",
   "execution_count": 19,
   "id": "2a3ebdf7",
   "metadata": {},
   "outputs": [
    {
     "name": "stdout",
     "output_type": "stream",
     "text": [
      "F-scores on undersampled data\n",
      "\tDecision tree: 0.6867383512544804\n",
      "\tRandom forest: 0.7619699042407662\n",
      "\tK Neighbors:   0.734087694483734\n",
      "\tGaussianNB:    0.7456687456687456\n",
      "\tAda Boost:     0.7603195739014648\n"
     ]
    }
   ],
   "source": [
    "print(\"F-scores on undersampled data\")\n",
    "print(\"\\tDecision tree:\", tree_fscore)\n",
    "print(\"\\tRandom forest:\", randomForest_fscore)\n",
    "print(\"\\tK Neighbors:  \", KNN_fscore)\n",
    "print(\"\\tGaussianNB:   \", GaussianNB_fscore)\n",
    "print(\"\\tAda Boost:    \", AdaBoost_pred)"
   ]
  },
  {
   "cell_type": "markdown",
   "id": "11a19657",
   "metadata": {},
   "source": [
    "## 3) Oversampling"
   ]
  },
  {
   "cell_type": "code",
   "execution_count": 20,
   "id": "4963da4f",
   "metadata": {},
   "outputs": [],
   "source": [
    "# Get X and y from data\n",
    "X3 = df.drop('dropout', axis=1)\n",
    "y3 = df['dropout']\n",
    "\n",
    "# Separate into test, train and validation sets\n",
    "X_train_3, X_test_3, y_train_3, y_test_3 = train_test_split(X3, y3, test_size=0.2, random_state=0)\n",
    "X_val_3, X_test_3, y_val_3, y_test_3 = train_test_split(X_test_3, y_test_3, test_size=0.5, random_state=0)\n",
    "\n",
    "# Perform oversampling on the training set\n",
    "ros = RandomOverSampler(random_state=0)\n",
    "X_train_oversampled, y_train_oversampled = ros.fit_resample(X_train_3, y_train_3)"
   ]
  },
  {
   "cell_type": "code",
   "execution_count": 21,
   "id": "97a19796",
   "metadata": {},
   "outputs": [],
   "source": [
    "# Decision Tree\n",
    "model_tree_3 = DecisionTreeClassifier()\n",
    "model_tree_3 = model_tree_3.fit(X_train_oversampled, y_train_oversampled)\n",
    "\n",
    "tree_pred = model_tree_3.predict(X_val_3)\n",
    "\n",
    "tree_fscore = f1_score(y_val_3, tree_pred)"
   ]
  },
  {
   "cell_type": "code",
   "execution_count": 22,
   "id": "6148b818",
   "metadata": {},
   "outputs": [],
   "source": [
    "# Random Forest\n",
    "model_randomForest_3 = RandomForestClassifier()\n",
    "model_randomForest_3 = model_randomForest_3.fit(X_train_oversampled, y_train_oversampled)\n",
    "\n",
    "randomForest_pred = model_randomForest_3.predict(X_val_3)\n",
    "\n",
    "randomForest_fscore = f1_score(y_val_3, randomForest_pred)"
   ]
  },
  {
   "cell_type": "code",
   "execution_count": 23,
   "id": "c81456a8",
   "metadata": {},
   "outputs": [
    {
     "name": "stderr",
     "output_type": "stream",
     "text": [
      "/Users/Kertu/opt/anaconda3/lib/python3.9/site-packages/sklearn/neighbors/_classification.py:228: FutureWarning: Unlike other reduction functions (e.g. `skew`, `kurtosis`), the default behavior of `mode` typically preserves the axis it acts along. In SciPy 1.11.0, this behavior will change: the default value of `keepdims` will become False, the `axis` over which the statistic is taken will be eliminated, and the value None will no longer be accepted. Set `keepdims` to True or False to avoid this warning.\n",
      "  mode, _ = stats.mode(_y[neigh_ind, k], axis=1)\n"
     ]
    }
   ],
   "source": [
    "# K-nearest neighbors\n",
    "model_KNN_3 = KNeighborsClassifier()\n",
    "model_KNN_3 = model_KNN_3.fit(X_train_oversampled, y_train_oversampled)\n",
    "\n",
    "KNN_pred = model_KNN_3.predict(X_val_3)\n",
    "\n",
    "KNN_fscore = f1_score(y_val_3, KNN_pred)"
   ]
  },
  {
   "cell_type": "code",
   "execution_count": 24,
   "id": "f280f361",
   "metadata": {},
   "outputs": [],
   "source": [
    "# GaussianNB\n",
    "model_GaussianNB_3 = GaussianNB()\n",
    "model_GaussianNB_3 = model_GaussianNB_3.fit(X_train_oversampled, y_train_oversampled)\n",
    "\n",
    "GaussianNB_pred = model_GaussianNB_3.predict(X_val_3)\n",
    "\n",
    "GaussianNB_fscore = f1_score(y_val_3, GaussianNB_pred)"
   ]
  },
  {
   "cell_type": "code",
   "execution_count": 25,
   "id": "dc731644",
   "metadata": {},
   "outputs": [],
   "source": [
    "# AdaBoost\n",
    "model_AdaBoost_3 = AdaBoostClassifier()\n",
    "model_AdaBoost_3 = model_AdaBoost_3.fit(X_train_oversampled, y_train_oversampled)\n",
    "\n",
    "AdaBoost_pred = model_AdaBoost_3.predict(X_val_3)\n",
    "\n",
    "AdaBoost_pred = f1_score(y_val_3, AdaBoost_pred)"
   ]
  },
  {
   "cell_type": "code",
   "execution_count": 26,
   "id": "c61b5618",
   "metadata": {},
   "outputs": [
    {
     "name": "stdout",
     "output_type": "stream",
     "text": [
      "F-scores on oversampled data\n",
      "\tDecision tree: 0.6172208013640239\n",
      "\tRandom forest: 0.7242990654205607\n",
      "\tK Neighbors:   0.7131672597864769\n",
      "\tGaussianNB:    0.7468879668049794\n",
      "\tAda Boost:     0.7538155275381554\n"
     ]
    }
   ],
   "source": [
    "print(\"F-scores on oversampled data\")\n",
    "print(\"\\tDecision tree:\", tree_fscore)\n",
    "print(\"\\tRandom forest:\", randomForest_fscore)\n",
    "print(\"\\tK Neighbors:  \", KNN_fscore)\n",
    "print(\"\\tGaussianNB:   \", GaussianNB_fscore)\n",
    "print(\"\\tAda Boost:    \", AdaBoost_pred)"
   ]
  },
  {
   "cell_type": "markdown",
   "id": "5bec8764",
   "metadata": {},
   "source": [
    "## The best models\n",
    "The best models turned out to be:\n",
    "1. Random Forest Classifier on undersampled data (F-score: 0.7619699042407662)\n",
    "3. AdaBoost on undersampled data (F-score: 0.7603195739014648)\n",
    "\n",
    "The next section is about further analysis on test data (not validation data)."
   ]
  },
  {
   "cell_type": "code",
   "execution_count": 42,
   "id": "88fb7c11",
   "metadata": {},
   "outputs": [
    {
     "name": "stdout",
     "output_type": "stream",
     "text": [
      "Using AdaBoost on undersampled data\n",
      "\tAccuracy: 0.8207373271889401\n",
      "\tPrecision: 0.6308360477741585\n",
      "\tRecall: 0.9222222222222223\n",
      "\tF1-score: 0.7491940683430044\n"
     ]
    }
   ],
   "source": [
    "# Using AdaBoost on oversampled data\n",
    "y_pred = model_AdaBoost_2.predict(X_test_2)\n",
    "\n",
    "# Getting the metrics\n",
    "accuracy = accuracy_score(y_test_2, y_pred)\n",
    "precision = precision_score(y_test_2, y_pred)\n",
    "recall = recall_score(y_test_2, y_pred)\n",
    "fscore = f1_score(y_test_2, y_pred)\n",
    "\n",
    "# Printing the metrics\n",
    "print(\"Using AdaBoost on undersampled data\")\n",
    "print(\"\\tAccuracy:\", accuracy)\n",
    "print(\"\\tPrecision:\", precision)\n",
    "print(\"\\tRecall:\", recall)\n",
    "print(\"\\tF1-score:\", fscore)"
   ]
  },
  {
   "cell_type": "code",
   "execution_count": 43,
   "id": "a10b358f",
   "metadata": {},
   "outputs": [
    {
     "data": {
      "image/png": "[encoded data removed]",
      "text/plain": [
       "<Figure size 640x480 with 1 Axes>"
      ]
     },
     "metadata": {},
     "output_type": "display_data"
    }
   ],
   "source": [
    "# Compute ROC curve and ROC-AUC score\n",
    "proba = model_AdaBoost_2.predict_proba(X_test_2)[:, 1]\n",
    "fpr, tpr, thresholds = roc_curve(y_test_2, proba)\n",
    "roc_auc = roc_auc_score(y_test_2, proba)\n",
    "\n",
    "# Plot ROC curve\n",
    "plt.plot(fpr, tpr, label='ROC curve (AUC = %0.2f)' % roc_auc)\n",
    "plt.plot([0, 1], [0, 1], linestyle='--', color='gray', label='Random guessing')\n",
    "plt.xlabel('False Positive Rate')\n",
    "plt.ylabel('True Positive Rate')\n",
    "plt.title('Receiver Operating Characteristic (AdaBoost on undersampled data)')\n",
    "plt.legend()\n",
    "plt.show()"
   ]
  },
  {
   "cell_type": "code",
   "execution_count": 44,
   "id": "7b0561f5",
   "metadata": {},
   "outputs": [
    {
     "name": "stdout",
     "output_type": "stream",
     "text": [
      "Using Random Forest Classifier on undersampled data\n",
      "\tAccuracy: 0.8253456221198157\n",
      "\tPrecision: 0.639599555061179\n",
      "\tRecall: 0.9126984126984127\n",
      "\tF1-score: 0.7521255722694571\n"
     ]
    }
   ],
   "source": [
    "# Using Random Forest Classifier on undersampled data\n",
    "y_pred = model_randomForest_2.predict(X_test_2)\n",
    "\n",
    "# Getting the metrics\n",
    "accuracy = accuracy_score(y_test_2, y_pred)\n",
    "precision = precision_score(y_test_2, y_pred)\n",
    "recall = recall_score(y_test_2, y_pred)\n",
    "fscore = f1_score(y_test_2, y_pred)\n",
    "\n",
    "# Printing the metrics\n",
    "print(\"Using Random Forest Classifier on undersampled data\")\n",
    "print(\"\\tAccuracy:\", accuracy)\n",
    "print(\"\\tPrecision:\", precision)\n",
    "print(\"\\tRecall:\", recall)\n",
    "print(\"\\tF1-score:\", fscore)"
   ]
  },
  {
   "cell_type": "code",
   "execution_count": 45,
   "id": "857ee7eb",
   "metadata": {},
   "outputs": [
    {
     "data": {
      "image/png": "[encoded data removed]",
      "text/plain": [
       "<Figure size 640x480 with 1 Axes>"
      ]
     },
     "metadata": {},
     "output_type": "display_data"
    }
   ],
   "source": [
    "# Compute ROC curve and ROC-AUC score\n",
    "proba = model_randomForest_2.predict_proba(X_test_2)[:, 1]\n",
    "fpr, tpr, thresholds = roc_curve(y_test_2, proba)\n",
    "roc_auc = roc_auc_score(y_test_2, proba)\n",
    "\n",
    "# Plot ROC curve\n",
    "plt.plot(fpr, tpr, label='ROC curve (AUC = %0.2f)' % roc_auc)\n",
    "plt.plot([0, 1], [0, 1], linestyle='--', color='gray', label='Random guessing')\n",
    "plt.xlabel('False Positive Rate')\n",
    "plt.ylabel('True Positive Rate')\n",
    "plt.title('Receiver Operating Characteristic (Random Forest on undersampled data)')\n",
    "plt.legend()\n",
    "plt.show()"
   ]
  }
 ],
 "metadata": {
  "kernelspec": {
   "display_name": "Python 3 (ipykernel)",
   "language": "python",
   "name": "python3"
  },
  "language_info": {
   "codemirror_mode": {
    "name": "ipython",
    "version": 3
   },
   "file_extension": ".py",
   "mimetype": "text/x-python",
   "name": "python",
   "nbconvert_exporter": "python",
   "pygments_lexer": "ipython3",
   "version": "3.9.13"
  }
 },
 "nbformat": 4,
 "nbformat_minor": 5
}
