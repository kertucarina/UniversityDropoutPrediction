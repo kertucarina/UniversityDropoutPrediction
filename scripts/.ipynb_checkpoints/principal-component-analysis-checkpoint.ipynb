{
 "cells": [
  {
   "cell_type": "markdown",
   "id": "d5f7e35e",
   "metadata": {},
   "source": [
    "## Principal Component Analysis (PCA)\n",
    "*Principal component analysis (PCA) is a technique for reducing the dimensionality of datasets, increasing\n",
    "interpretability but at the same time minimizing information loss. PCA is often used to simplify data and reduce\n",
    "noise.*"
   ]
  },
  {
   "cell_type": "code",
   "execution_count": 1,
   "id": "fcff7e23",
   "metadata": {},
   "outputs": [],
   "source": [
    "import numpy as np\n",
    "import pandas as pd\n",
    "import matplotlib.pyplot as plt"
   ]
  },
  {
   "cell_type": "markdown",
   "id": "342a482f",
   "metadata": {},
   "source": [
    "#### 1. Andmete laadimine"
   ]
  },
  {
   "cell_type": "code",
   "execution_count": 2,
   "id": "54df8b5d",
   "metadata": {},
   "outputs": [
    {
     "name": "stdout",
     "output_type": "stream",
     "text": [
      "Loaded data with timestamp None\n"
     ]
    }
   ],
   "source": [
    "# Change file name as required \n",
    "with open (\"../data/df_cleaned.csv\", mode='r', encoding='utf-8') as f:\n",
    "    timestamp_line = f.readline().strip()\n",
    "    timestamp = timestamp_line.removeprefix(\"#\").lstrip() if timestamp_line.startswith(\"#\") else None\n",
    "df = pd.read_csv(\"../data/df_cleaned.csv\", sep=',', skiprows=1 if timestamp else None)\n",
    "\n",
    "print(f\"Loaded data with timestamp {timestamp}\")"
   ]
  },
  {
   "cell_type": "code",
   "execution_count": 3,
   "id": "0af0309a",
   "metadata": {},
   "outputs": [
    {
     "data": {
      "text/plain": [
       "(48522, 47)"
      ]
     },
     "execution_count": 3,
     "metadata": {},
     "output_type": "execute_result"
    }
   ],
   "source": [
    "df.shape"
   ]
  },
  {
   "cell_type": "markdown",
   "id": "fd703c74",
   "metadata": {},
   "source": [
    "Nagu näha, on meil alguses 47 dimensiooni. Proovime dimensioonide arvu PCA abil vähendada. "
   ]
  },
  {
   "cell_type": "markdown",
   "id": "3c8e5e14",
   "metadata": {},
   "source": [
    "#### 2. Kategooriliste andmete teisendamine\n",
    "*PCA only works for numerical data, categorical variables need to be converted (encoded) to numerical.*"
   ]
  },
  {
   "cell_type": "code",
   "execution_count": 4,
   "id": "7f76f56e",
   "metadata": {
    "scrolled": true
   },
   "outputs": [],
   "source": [
    "pd.set_option('display.max_columns', 47)\n",
    "#df.head()"
   ]
  },
  {
   "cell_type": "code",
   "execution_count": 5,
   "id": "7756793d",
   "metadata": {
    "scrolled": true
   },
   "outputs": [
    {
     "data": {
      "text/plain": [
       "person.UUID                      object\n",
       "study.place.UUID                 object\n",
       "debug.study.place.ID              int64\n",
       "debug.student.matricula.nr       object\n",
       "study.level                      object\n",
       "code.of.curriculum                int64\n",
       "curriculum.UUID                  object\n",
       "faculty.code                     object\n",
       "year_immatriculation              int64\n",
       "year_exmatriculation              int64\n",
       "semester_current                float64\n",
       "study_period_in_years             int64\n",
       "dropout                           int64\n",
       "admission.special.conditions    float64\n",
       "prev.study.level                 object\n",
       "prev.study.level.factor           int64\n",
       "nr.of.previous.studies.in.UT      int64\n",
       "nr.of.previous.finished           int64\n",
       "normalized_score                float64\n",
       "cum.credits.earned              float64\n",
       "cum.extracurricular.credits     float64\n",
       "cum.all.results                   int64\n",
       "cum.negative.results              int64\n",
       "cum.grade.A                       int64\n",
       "cum.grade.B                       int64\n",
       "cum.grade.C                       int64\n",
       "cum.grade.D                       int64\n",
       "cum.grade.E                       int64\n",
       "cum.grade.F                       int64\n",
       "cum.passed                        int64\n",
       "cum.not.passed                    int64\n",
       "cum.not.present                   int64\n",
       "sum_passed_grade                  int64\n",
       "sum_failed_grade                  int64\n",
       "days.on.academic.leave            int64\n",
       "days.studying.abroad              int64\n",
       "days.as.visiting.student          int64\n",
       "credits.cancelled.during.2w     float64\n",
       "nr.of.courses.registered          int64\n",
       "nr.of.courses.with.any.grade      int64\n",
       "credits.registered              float64\n",
       "nr.of.employment.contracts        int64\n",
       "workload                         object\n",
       "total_economic_support          float64\n",
       "on.extended.study.period          int64\n",
       "active                            int64\n",
       "nr.of.previous.unfinished         int64\n",
       "dtype: object"
      ]
     },
     "execution_count": 5,
     "metadata": {},
     "output_type": "execute_result"
    }
   ],
   "source": [
    "df.dtypes"
   ]
  },
  {
   "cell_type": "markdown",
   "id": "49072718",
   "metadata": {},
   "source": [
    "**Dropping person.UUID, study.place.UUID and debug.student.matricula.nr, because it's not reasonable to encode them to categorical values**"
   ]
  },
  {
   "cell_type": "code",
   "execution_count": 6,
   "id": "3dec1852",
   "metadata": {},
   "outputs": [],
   "source": [
    "df = df.drop([\"person.UUID\", \"study.place.UUID\", \"debug.student.matricula.nr\"], axis=1)"
   ]
  },
  {
   "cell_type": "markdown",
   "id": "b7fd427d",
   "metadata": {},
   "source": [
    "**Study level**"
   ]
  },
  {
   "cell_type": "code",
   "execution_count": 7,
   "id": "4715da6a",
   "metadata": {
    "scrolled": false
   },
   "outputs": [
    {
     "data": {
      "text/plain": [
       "array(['514 Professional higher education programmes',\n",
       "       \"614 Master's programmes\", \"511 Bachelor's programmes\",\n",
       "       \"503 Integrated Bachelor's and Master's programmes\"], dtype=object)"
      ]
     },
     "execution_count": 7,
     "metadata": {},
     "output_type": "execute_result"
    }
   ],
   "source": [
    "df[\"study.level\"].unique()"
   ]
  },
  {
   "cell_type": "code",
   "execution_count": 8,
   "id": "62b86f87",
   "metadata": {},
   "outputs": [],
   "source": [
    "df[\"study.level\"] = df[\"study.level\"].astype('category')\n",
    "df[\"study.level\"] = df[\"study.level\"].cat.codes"
   ]
  },
  {
   "cell_type": "markdown",
   "id": "744389cb",
   "metadata": {},
   "source": [
    "**Curriculum**"
   ]
  },
  {
   "cell_type": "code",
   "execution_count": 9,
   "id": "3ae4a378",
   "metadata": {},
   "outputs": [
    {
     "data": {
      "text/plain": [
       "array(['995f22629fcc2b38dc157f49913b8c53',\n",
       "       '7bb31c839c3fcebd9f0affdf22a174bc',\n",
       "       '03423eb4b662ed11afdc8302e3e57b24',\n",
       "       '52c8137167fe84931bcd720a453ebd63',\n",
       "       '2e3ef51eae31d36425b0f4ec97bad45a',\n",
       "       'f870249c017b1cab5519a9fde369602a',\n",
       "       '8f43e130bb6bdaebabaf545bd1c5933c',\n",
       "       'f6160b10a13bbdee763d9a1e1b816288',\n",
       "       '918bf16909bbd8150f84c1206fa39524',\n",
       "       '8f68219aaaafb3fa6261e51c3c8181c7',\n",
       "       'f2cb03399a415d2ee973e266240c81f5',\n",
       "       '52d1ee15f0f9c87f031a2a6bb29c7022',\n",
       "       '592d57af47173ae7ce838cef164d4afe',\n",
       "       '20f769141f4c00c365910e1681f1a173',\n",
       "       '3025acc146b39218e3fb047b7be9e10c',\n",
       "       '92ebd5c84cc1427358a8eef0e2a3704d',\n",
       "       '65b00ddee74c4ee4eb67c03aab2ab06d',\n",
       "       '71018ffbfbcc575473215d90f8a098fe',\n",
       "       '0e63cf7c18f370f03d60365860b21b99',\n",
       "       'bed517c3296f95c41ad7e0dae62cb2b1',\n",
       "       '9153e408882cd209ad561fd98b793fbd',\n",
       "       '91d3026741e127f75d3fcebfeb71c763',\n",
       "       '2579994bc127c4fcbded37d72ec10a3a',\n",
       "       '940e94d5139d34cee3f1f1d8f9952757',\n",
       "       '667d1b36de712f224ef89834007bdc36',\n",
       "       'e543906319725ae8e004c045787f64f0',\n",
       "       '8fb17105c66edc2d23dafd787d409eac',\n",
       "       '6f506b39586b1211624686d8eb7fc7cd',\n",
       "       'f88c585a075a67f126e6a2421148523b',\n",
       "       'd6af49379df3001c9436f97bddffaf63',\n",
       "       '1dc9eacd27857baec7a49c80b3d9f6e7',\n",
       "       'fad0d60b733d215686b7cdf81f488622',\n",
       "       'c5e588536125d07bfcc35e3715617c6b',\n",
       "       'c3d0d75d209e3d73f849f54b1d0caf6b',\n",
       "       'c95638b9eab247c356500838d308e990',\n",
       "       '15267731316eb0806fbf116be80e3e40',\n",
       "       'ab92e7b7f9f2ee6f3e96f5c7fbfd4c12',\n",
       "       '35daaaa263b3e10302ede31185051f1c',\n",
       "       'b5cc33fa70bfd16e86c2553fb8aad075',\n",
       "       '91876b1abadedbac51414ddf9d99bd23',\n",
       "       '12a4b30853f38e9f250a4ef305476547',\n",
       "       '86b11ff0da7a8657afac832dfee8abda',\n",
       "       '09d1f77c40e160c0ffa5a3c83bde98ea',\n",
       "       'fee05ac36aade28d68cf475e49ff1d46',\n",
       "       'e6adeb15b293b2dd7d63d704fad20352',\n",
       "       '934d03c330f971f10929604a871ef0e7',\n",
       "       '03421357a6c2da398f11eb6b24c5d0e8',\n",
       "       'f1cc38dcf05d074be1081a0d6e591104',\n",
       "       'b6fe5f50a5c7e21d6282211b90bd2c11',\n",
       "       'b01db8b2ea72b201a1693cab34fec83a',\n",
       "       'ed411dd35fb164f168e54a0b13786d49',\n",
       "       '32a36b15edb2fd67558e1558eb2675f1',\n",
       "       '8501c256f06a67848d92a5f9c363d9e0',\n",
       "       '32c785b77b1b6c6a7197567eb8b6e14f',\n",
       "       '812270c2044953c1e510a94a44b71c4d',\n",
       "       'a78104e2e26f241716737f25c550125b',\n",
       "       '0b474fd7c5028d0c46a675dd1e259f87',\n",
       "       '565eb3c170fde6a728ca0af3f368e5ca',\n",
       "       '66e57d5a7466625dc50043b316bc9316',\n",
       "       '2ddd8dd304985835a9197dfe0ba6a0e0',\n",
       "       '7840379e9c611332c8dd46c8ef83510a',\n",
       "       '7f9b6a4940696476b6316586c9c18cc2',\n",
       "       'cf7318a3c4d3900ba3326521d1756ca7',\n",
       "       '060f5b925a671f1b720c08d65612cfb0',\n",
       "       'e95b687c260bce810dab899791582bb5',\n",
       "       '8adfb080c01d7559bcd9413eab56d649',\n",
       "       '278db049ca989388c91461dcfab40e3e',\n",
       "       'de01b5be76266fd19d3ec06e38a43506',\n",
       "       '6ef42a52a62883fe66382d0ab322f1bc',\n",
       "       'a5377315e918a1ff23ed2d632c8ffbc8',\n",
       "       'eded58358f812b37a82f14f9d97ec3e4',\n",
       "       '62c650c37de681e8b30aac54037723dc',\n",
       "       'c301097037d10e6879d04a231d584c29',\n",
       "       '8a935d82b4c9a2918ddea1bf13721ca4',\n",
       "       '7248da9e2367ff3d7898851bf23bdbdb',\n",
       "       'e8c5912de284e8dd2615a5e74fe750c8',\n",
       "       '8d3c149cde4f1f4a500b24b6250cdb1a',\n",
       "       '33ef0c51904c7e443db5e2fc37e18eea',\n",
       "       '926e048bcc56a2b9b898e1ff8e18aa77',\n",
       "       'a822198481eb2e56430f1e6c135f2819',\n",
       "       '4229a876ebf688554622640466515b73',\n",
       "       '54ec8da7f44f17030a8f4cc76d26d913',\n",
       "       'b437619565d9c8d71825604a20e645f9',\n",
       "       'cf19684d8aaf376f38aeb3e7ff0971cd',\n",
       "       '5f67a871f4d5f0d37d99f38ce23f3c1f',\n",
       "       'f02fdc1c3b2e839f2b4833357e62c8c3',\n",
       "       'df50134069f14ae883c2487c887071e2',\n",
       "       '6ee49faa16169373d8a3cae009c49552',\n",
       "       'c4c03b2783f2515411defd2e55127c06',\n",
       "       '13e85625ee23b228e6e6d016c434df8e',\n",
       "       'b7703ab59d963319ea71566ad42b9787',\n",
       "       'f77ce9f2e3a9644c798230c15820107f',\n",
       "       '471124bbf0b55d09a2bf42b836d2fed4',\n",
       "       '372256ac0d71d4f49932fb7d0557badd',\n",
       "       '9e2e82d227470f954ed34b7a25650935',\n",
       "       '564d5b0982e28b0f9e58dfde4a70f81c',\n",
       "       'ea47df93207bea25551d3478efbb73cd',\n",
       "       '22d1a37ceb2ac0faae69cd0568283250',\n",
       "       'dfcc3e28b46c8c5cc7688e06187daf5c',\n",
       "       '55fb604fbb31eaccce491b33d6687dec',\n",
       "       'b30ab092b7e536f3547dedd45a870b7f',\n",
       "       '742072cc36a19e21305292575f14bab2',\n",
       "       '3d8e4a23a65e0253a238cbdfb5128e24',\n",
       "       'cc7e83837ab682fd3a75c62073997c85',\n",
       "       '2af6524e7174bcaec715ff77eb9e29a5',\n",
       "       'f72a7a9014ff71359170466cdcce1972',\n",
       "       '8b267455de0ba3e13179e934055227e9',\n",
       "       '65e25d21afae9965e631040cac0c8516',\n",
       "       'bd58afbb1c743c5c82c3c7c75eb1328d',\n",
       "       '96787d98e2203edf24cbf8d08c45a1b2',\n",
       "       '5df168fb63744989f2d21a7157277404',\n",
       "       '66cafd93b8af97080edefc339bc14aa4',\n",
       "       '11072dda27b5cd071ac9309a5eccef16',\n",
       "       '82d70785b666957fe3120bcd938f9714',\n",
       "       '8edd307d3153f0ac900c78b9c8f99425',\n",
       "       'bb34858be70994e46845767f661fa1e1',\n",
       "       'e7fa4160af7ba68ae1627645327a781a',\n",
       "       '20590fa0f41e19fa442ba465920a9b6f',\n",
       "       '0d986908d7ef5a32a0aadb34587b3ec0',\n",
       "       '96c2b78d1cb0245d89a536323cdee02b',\n",
       "       '1d549bb3609f60b1df9336fbc9f8b505',\n",
       "       '1bf73ffa255c820724d9623b3c42455e',\n",
       "       '0d00dd9f142eb62b4786bc7549725b98',\n",
       "       'b7b04eebbc7ed100a022e601f894dc63',\n",
       "       'd62a4c2c15d42f852262f1804db13a0e',\n",
       "       '7f1913d2cbbc39568d206262f7c60da1',\n",
       "       '6196b8bee1dc1cc0a05f1a6d4ad88002',\n",
       "       '522fa68ff2b02fe832a7fdec5f3c77c3',\n",
       "       '8947d912583f59b05ef9a6bd1f3a94c4',\n",
       "       '83d1022ebb49110279fa539f90cf6d6f',\n",
       "       'd06733190b9252c43a767f27452d7fa3',\n",
       "       'd341ae35cba60e250bc115d5cc11ac52',\n",
       "       'fea7126028c0b540872924bd892eca28',\n",
       "       '001afec9103fa878f51a084001b3f000',\n",
       "       '4e0645bab11da2d1ca1276d51ee9af03',\n",
       "       '64df1b5ca17e1d4fbc1d9b51f95f3f2d',\n",
       "       '1dd32108617893c02379769add9929b6',\n",
       "       'ec0700bbfafbad2988ef5fe12f26026e',\n",
       "       'd47ca87e7091c6904368a292c2bd0de2',\n",
       "       '14390a15ec74a91669a539ab09198b1e',\n",
       "       'aac86f95bb0b57e91b37c997b3a733eb',\n",
       "       '817406a2e6ad3aaa3e181f4e9d62f1f9',\n",
       "       '407fa9c8f844fa158cc1cf9c396f8359',\n",
       "       '6768d8abb00141c0f6c47b8a90dabdf3',\n",
       "       'ad3128fd357018ac822e23f55617cb5a',\n",
       "       'c16d071994ff89680d8c4000224f0835',\n",
       "       '73b658cc6ca6adc0c2e0d322c0e64392',\n",
       "       '20caeb88a64e5d907157bfc379437e1d',\n",
       "       'b570003d7babe043fc5e73ab84747d37',\n",
       "       'fafa49edc3f8e7b10d0f61c1535d7b10',\n",
       "       '49b0eb5f870d3bbf2da135d89a9bb9f7',\n",
       "       '072d6d657697cbd5ab22c0789cd34f9f',\n",
       "       'c3abec58843eb06e83e8e70f3f91434d',\n",
       "       'e6fb5756a9c5ea2558e65f0acc53a537',\n",
       "       '11777d1e1536acbe551dc9ac51dd16f0',\n",
       "       'cc1e66942193219295924bb16bb5aca0',\n",
       "       '991d31787ace8b3db99fbba5a411bae2',\n",
       "       '14350b4a85075e51e2a7a6ef8d178a57',\n",
       "       '443a697fe50772460672701920c9cf9d',\n",
       "       '677a37b1985cf90bf346523a8b773236',\n",
       "       'ef72f2ec218ffd6f3ed56d514d679311',\n",
       "       'b15d0140a2aecc83997b0bf34a65b9a1',\n",
       "       '74179429bead3d4c5c5f019ff6c38753',\n",
       "       'ef9e20a4089627ff3ade205ffa8bbdcc',\n",
       "       '887bb1d9ec8aa4b02ba3f8cd9a62faf2',\n",
       "       'a1bbbf045b3bccf9bf1b9cc26c63e5d8',\n",
       "       'ed7ab3cdc40e50ec5c4f0fe8cc6febcb',\n",
       "       'cfa6c40dd60f8d78d7e86cacc97c1e4c',\n",
       "       '46e4b3051f818897983043c9654347e8',\n",
       "       'd1658119fb24fc96fb90c1b9c12663f9',\n",
       "       '17ad905c5852b2f51e447d661bc39dee',\n",
       "       'cd208eb5b494693327cb01c6991dd301',\n",
       "       '36073940924b64266bcea5621b49b2df',\n",
       "       '94fbb8b0a67d750372c28f0e91bffe27',\n",
       "       '91906265f84bbc7e89cf6d9e978fe026',\n",
       "       '20aae02bdbb27c3880cc485d77bf8e39',\n",
       "       '28423746f3d381b4a3f85bb4ed89f79c',\n",
       "       'd459705fa2a8fa346aaae27b1362647f',\n",
       "       'ff74dd8f2ebe8c2a03df4820b4a2641e',\n",
       "       '9f1490984ac5608ba198702188cc4b92',\n",
       "       'c6b57ea2de5f2485d6605f3f02348631',\n",
       "       'ad0e210ad501cdbe54a23b0f1aec40a1',\n",
       "       '3e96a7215393240bc33ca79a81e3262f',\n",
       "       'd5dbd0f1c171578e368aca270350701d',\n",
       "       'e2558914899d1e264ef26ab2e5aec3e9',\n",
       "       '23ec5326b3ba523fb07fafbd66f3b5ea',\n",
       "       '2e82f5e76bc06c44a5b3199c12b8c5fe',\n",
       "       '393f78f01f01259961efd11361e327d4',\n",
       "       'a8e92e933c6c9e3b76f711665ed5ff75',\n",
       "       '8e86099c6c19a0c31bf54824e21463a9',\n",
       "       'dde0fe9ebfeff4ad817242494072ed7f',\n",
       "       '178dcf51c227cfade7e80731c6be0877',\n",
       "       '85df18bdb644727b3406b42894917aff',\n",
       "       'c82cca2f2192e2e6c745544241e52971',\n",
       "       '66014704ba93161c0f5a36d9685e08f8',\n",
       "       'e2d82b974838b0a8df2ac5dd5c32be07',\n",
       "       'fdbd7c195452a7987ce6e1c45b1bfb20',\n",
       "       '378da534c7133ace2ae8cac3b6a09589',\n",
       "       'fb6061f249f0dae76f9bbb94abac2f94',\n",
       "       '003bd7473a502c6cc78daffb61344d92',\n",
       "       '1c93cdcb1b5e906ffdbfd2841d330af4',\n",
       "       '3618cb6fcf2fab1203d7a3ffa98baa78',\n",
       "       '5d4c0a5a224b5f17be1b1963942d7371',\n",
       "       'f00fc0f978c577aa8049f6b436508112',\n",
       "       'f427ee5bc4d1adb9aa236ffa64e92499',\n",
       "       '179edc21335f404a99da10286c4edb6a',\n",
       "       '92abce0567e84b7090b1d76c585fc40d',\n",
       "       '2add3a10f4e0e6882f7e9c6cba733fe8',\n",
       "       'cb0ed466a335a5c3e9f61edda17ebfe7',\n",
       "       '48fcfec814289f64be7147a6b4a0ec54',\n",
       "       '4448d708ef700ef6f223fae42d0929ef',\n",
       "       '5d1925347665aaf6721563d337c99a9c',\n",
       "       'a8b3dbaa14e0ad6547c9ace2825688bd',\n",
       "       '500d3ae3d43af1d55afd08af2c0f26fb'], dtype=object)"
      ]
     },
     "execution_count": 9,
     "metadata": {},
     "output_type": "execute_result"
    }
   ],
   "source": [
    "df[\"curriculum.UUID\"].unique()"
   ]
  },
  {
   "cell_type": "code",
   "execution_count": 10,
   "id": "13f1e68b",
   "metadata": {},
   "outputs": [],
   "source": [
    "df[\"curriculum.UUID\"] = df[\"curriculum.UUID\"].astype('category')\n",
    "df[\"curriculum.UUID\"] = df[\"curriculum.UUID\"].cat.codes"
   ]
  },
  {
   "cell_type": "markdown",
   "id": "e5270845",
   "metadata": {},
   "source": [
    "**Faculty code**"
   ]
  },
  {
   "cell_type": "code",
   "execution_count": 11,
   "id": "1f740cda",
   "metadata": {
    "scrolled": true
   },
   "outputs": [
    {
     "data": {
      "text/plain": [
       "array(['HV', 'LT', 'SV', 'MV'], dtype=object)"
      ]
     },
     "execution_count": 11,
     "metadata": {},
     "output_type": "execute_result"
    }
   ],
   "source": [
    "df[\"faculty.code\"].unique()"
   ]
  },
  {
   "cell_type": "code",
   "execution_count": 12,
   "id": "662e362a",
   "metadata": {},
   "outputs": [],
   "source": [
    "df[\"faculty.code\"] = df[\"faculty.code\"].astype('category')\n",
    "df[\"faculty.code\"] = df[\"faculty.code\"].cat.codes"
   ]
  },
  {
   "cell_type": "markdown",
   "id": "20d7d47e",
   "metadata": {},
   "source": [
    "**Previous study level**"
   ]
  },
  {
   "cell_type": "code",
   "execution_count": 13,
   "id": "628cd4a8",
   "metadata": {},
   "outputs": [
    {
     "data": {
      "text/plain": [
       "array([\"Master's programmes\", \"Bachelor's programmes\",\n",
       "       '1-year teacher training programmes', 'Doctoral programmes',\n",
       "       'Vocational education based on secondary education',\n",
       "       \"Integrated Bachelor's and Master's programmes\",\n",
       "       'General secondary education',\n",
       "       'Professional higher education programmes',\n",
       "       'Diploma study programmes', 'Vocational secondary education',\n",
       "       'The residency training of medical specialists',\n",
       "       'Secondary specialised vocational education',\n",
       "       'Residentship programmes',\n",
       "       'Vocational secondary courses based on basic education',\n",
       "       'Viienda taseme kutseõppe jätkuõpe',\n",
       "       'Vocational secondary courses based on secondary education',\n",
       "       'Vocational higher education programmes',\n",
       "       'Secondary vocational education',\n",
       "       'Viienda taseme kutseõppe esmaõpe',\n",
       "       'Post-secondary specialised vocational education',\n",
       "       'Neljanda taseme kutseõppe esmaõpe'], dtype=object)"
      ]
     },
     "execution_count": 13,
     "metadata": {},
     "output_type": "execute_result"
    }
   ],
   "source": [
    "df[\"prev.study.level\"].unique()"
   ]
  },
  {
   "cell_type": "code",
   "execution_count": 14,
   "id": "af3adca3",
   "metadata": {},
   "outputs": [],
   "source": [
    "df[\"prev.study.level\"] = df[\"prev.study.level\"].astype('category')\n",
    "df[\"prev.study.level\"] = df[\"prev.study.level\"].cat.codes"
   ]
  },
  {
   "cell_type": "markdown",
   "id": "24a5d6d6",
   "metadata": {},
   "source": [
    "**Workload**"
   ]
  },
  {
   "cell_type": "code",
   "execution_count": 15,
   "id": "c48a2d01",
   "metadata": {},
   "outputs": [
    {
     "data": {
      "text/plain": [
       "array(['full', 'part-time'], dtype=object)"
      ]
     },
     "execution_count": 15,
     "metadata": {},
     "output_type": "execute_result"
    }
   ],
   "source": [
    "df.workload.unique()"
   ]
  },
  {
   "cell_type": "code",
   "execution_count": 16,
   "id": "1b2afc2b",
   "metadata": {},
   "outputs": [],
   "source": [
    "df[\"workload\"] = df[\"workload\"].astype('category')\n",
    "df[\"workload\"] = df[\"workload\"].cat.codes"
   ]
  },
  {
   "cell_type": "code",
   "execution_count": 17,
   "id": "571f7641",
   "metadata": {},
   "outputs": [
    {
     "data": {
      "text/plain": [
       "debug.study.place.ID              int64\n",
       "study.level                        int8\n",
       "code.of.curriculum                int64\n",
       "curriculum.UUID                   int16\n",
       "faculty.code                       int8\n",
       "year_immatriculation              int64\n",
       "year_exmatriculation              int64\n",
       "semester_current                float64\n",
       "study_period_in_years             int64\n",
       "dropout                           int64\n",
       "admission.special.conditions    float64\n",
       "prev.study.level                   int8\n",
       "prev.study.level.factor           int64\n",
       "nr.of.previous.studies.in.UT      int64\n",
       "nr.of.previous.finished           int64\n",
       "normalized_score                float64\n",
       "cum.credits.earned              float64\n",
       "cum.extracurricular.credits     float64\n",
       "cum.all.results                   int64\n",
       "cum.negative.results              int64\n",
       "cum.grade.A                       int64\n",
       "cum.grade.B                       int64\n",
       "cum.grade.C                       int64\n",
       "cum.grade.D                       int64\n",
       "cum.grade.E                       int64\n",
       "cum.grade.F                       int64\n",
       "cum.passed                        int64\n",
       "cum.not.passed                    int64\n",
       "cum.not.present                   int64\n",
       "sum_passed_grade                  int64\n",
       "sum_failed_grade                  int64\n",
       "days.on.academic.leave            int64\n",
       "days.studying.abroad              int64\n",
       "days.as.visiting.student          int64\n",
       "credits.cancelled.during.2w     float64\n",
       "nr.of.courses.registered          int64\n",
       "nr.of.courses.with.any.grade      int64\n",
       "credits.registered              float64\n",
       "nr.of.employment.contracts        int64\n",
       "workload                           int8\n",
       "total_economic_support          float64\n",
       "on.extended.study.period          int64\n",
       "active                            int64\n",
       "nr.of.previous.unfinished         int64\n",
       "dtype: object"
      ]
     },
     "execution_count": 17,
     "metadata": {},
     "output_type": "execute_result"
    }
   ],
   "source": [
    "df.dtypes"
   ]
  },
  {
   "cell_type": "markdown",
   "id": "4868130d",
   "metadata": {},
   "source": [
    "No categorical/object type variables."
   ]
  },
  {
   "cell_type": "markdown",
   "id": "6899e3b5",
   "metadata": {},
   "source": [
    "#### 3. Andmete standardiseerimine\n",
    "*PCA is affected by scale, so you need to scale the features in your data before applying PCA. Use StandardScaler to help you standardize the data set’s features onto unit scale (mean = 0 and variance = 1), which is a requirement for the optimal performance of many machine learning algorithms. If you don’t scale your data, it can have a negative effect on your algorithm.*"
   ]
  },
  {
   "cell_type": "code",
   "execution_count": 18,
   "id": "af914995",
   "metadata": {},
   "outputs": [],
   "source": [
    "from sklearn.preprocessing import StandardScaler"
   ]
  },
  {
   "cell_type": "code",
   "execution_count": 19,
   "id": "3675d224",
   "metadata": {},
   "outputs": [
    {
     "data": {
      "text/plain": [
       "StandardScaler()"
      ]
     },
     "execution_count": 19,
     "metadata": {},
     "output_type": "execute_result"
    }
   ],
   "source": [
    "scaler = StandardScaler()\n",
    "scaler.fit(df)"
   ]
  },
  {
   "cell_type": "code",
   "execution_count": 20,
   "id": "f2999e46",
   "metadata": {},
   "outputs": [
    {
     "data": {
      "text/plain": [
       "array([[ 1.62980685,  0.21116071,  1.63210434, ..., -0.3901801 ,\n",
       "         1.64842542,  3.39060774],\n",
       "       [-1.4770986 ,  1.18114459, -0.70652484, ..., -0.3901801 ,\n",
       "        -0.60663952,  0.8886449 ],\n",
       "       [-0.98382392,  1.18114459, -0.70652484, ..., -0.3901801 ,\n",
       "        -0.60663952,  2.13962632],\n",
       "       ...,\n",
       "       [ 1.65691189,  1.18114459,  0.88620305, ..., -0.3901801 ,\n",
       "         1.64842542, -0.36233653],\n",
       "       [-1.48882304, -1.72880707,  0.55370512, ..., -0.3901801 ,\n",
       "        -0.60663952, -0.36233653],\n",
       "       [ 1.65567002, -0.75882318, -0.69811845, ..., -0.3901801 ,\n",
       "         1.64842542, -0.36233653]])"
      ]
     },
     "execution_count": 20,
     "metadata": {},
     "output_type": "execute_result"
    }
   ],
   "source": [
    "scaled_data = scaler.transform(df)\n",
    "scaled_data"
   ]
  },
  {
   "cell_type": "markdown",
   "id": "0f40d53c",
   "metadata": {},
   "source": [
    "The dataframe has been converted to an array."
   ]
  },
  {
   "cell_type": "markdown",
   "id": "09177d6b",
   "metadata": {},
   "source": [
    "#### 4. PCA algoritmi rakendamine"
   ]
  },
  {
   "cell_type": "code",
   "execution_count": 21,
   "id": "e6e9aadb",
   "metadata": {},
   "outputs": [],
   "source": [
    "from sklearn.decomposition import PCA"
   ]
  },
  {
   "cell_type": "code",
   "execution_count": 22,
   "id": "150f1826",
   "metadata": {
    "scrolled": true
   },
   "outputs": [
    {
     "data": {
      "text/plain": [
       "PCA(n_components=2)"
      ]
     },
     "execution_count": 22,
     "metadata": {},
     "output_type": "execute_result"
    }
   ],
   "source": [
    "pca = PCA(n_components=2) # keep 85% of the variance in the original data\n",
    "pca.fit(scaled_data)"
   ]
  },
  {
   "cell_type": "code",
   "execution_count": 23,
   "id": "5772670f",
   "metadata": {
    "scrolled": true
   },
   "outputs": [
    {
     "data": {
      "text/plain": [
       "2"
      ]
     },
     "execution_count": 23,
     "metadata": {},
     "output_type": "execute_result"
    }
   ],
   "source": [
    "pca.n_components_"
   ]
  },
  {
   "cell_type": "code",
   "execution_count": 24,
   "id": "b61fc029",
   "metadata": {},
   "outputs": [],
   "source": [
    "x_pca = pca.transform(scaled_data)"
   ]
  },
  {
   "cell_type": "code",
   "execution_count": 25,
   "id": "86372c4e",
   "metadata": {},
   "outputs": [
    {
     "data": {
      "text/plain": [
       "(48522, 44)"
      ]
     },
     "execution_count": 25,
     "metadata": {},
     "output_type": "execute_result"
    }
   ],
   "source": [
    "scaled_data.shape"
   ]
  },
  {
   "cell_type": "code",
   "execution_count": 26,
   "id": "1d185cae",
   "metadata": {},
   "outputs": [
    {
     "data": {
      "text/plain": [
       "(48522, 2)"
      ]
     },
     "execution_count": 26,
     "metadata": {},
     "output_type": "execute_result"
    }
   ],
   "source": [
    "x_pca.shape"
   ]
  },
  {
   "cell_type": "code",
   "execution_count": 27,
   "id": "82071faa",
   "metadata": {
    "scrolled": true
   },
   "outputs": [
    {
     "data": {
      "text/plain": [
       "Text(0, 0.5, 'Second principle component')"
      ]
     },
     "execution_count": 27,
     "metadata": {},
     "output_type": "execute_result"
    },
    {
     "data": {
      "image/png": "[encoded data removed]",
      "text/plain": [
       "<Figure size 800x600 with 1 Axes>"
      ]
     },
     "metadata": {},
     "output_type": "display_data"
    }
   ],
   "source": [
    "plt.figure(figsize=(8,6))\n",
    "plt.scatter(x_pca[:,0],x_pca[:,1],c=df['dropout'])\n",
    "plt.xlabel('First principle component')\n",
    "plt.ylabel('Second principle component')"
   ]
  },
  {
   "cell_type": "code",
   "execution_count": 28,
   "id": "079cd92f",
   "metadata": {
    "scrolled": true
   },
   "outputs": [
    {
     "data": {
      "text/plain": [
       "PCA(n_components=0.85)"
      ]
     },
     "execution_count": 28,
     "metadata": {},
     "output_type": "execute_result"
    }
   ],
   "source": [
    "pca = PCA(n_components=0.85) # keep 85% of the variance in the original data\n",
    "pca.fit(scaled_data)"
   ]
  },
  {
   "cell_type": "code",
   "execution_count": 29,
   "id": "93d0057a",
   "metadata": {
    "scrolled": true
   },
   "outputs": [
    {
     "data": {
      "text/plain": [
       "18"
      ]
     },
     "execution_count": 29,
     "metadata": {},
     "output_type": "execute_result"
    }
   ],
   "source": [
    "pca.n_components_"
   ]
  },
  {
   "cell_type": "code",
   "execution_count": 30,
   "id": "44df7841",
   "metadata": {},
   "outputs": [],
   "source": [
    "x_pca = pca.transform(scaled_data)"
   ]
  },
  {
   "cell_type": "code",
   "execution_count": 31,
   "id": "2ff028da",
   "metadata": {},
   "outputs": [
    {
     "data": {
      "text/plain": [
       "(48522, 44)"
      ]
     },
     "execution_count": 31,
     "metadata": {},
     "output_type": "execute_result"
    }
   ],
   "source": [
    "scaled_data.shape"
   ]
  },
  {
   "cell_type": "code",
   "execution_count": 32,
   "id": "9cae65bf",
   "metadata": {},
   "outputs": [
    {
     "data": {
      "text/plain": [
       "(48522, 18)"
      ]
     },
     "execution_count": 32,
     "metadata": {},
     "output_type": "execute_result"
    }
   ],
   "source": [
    "x_pca.shape"
   ]
  }
 ],
 "metadata": {
  "kernelspec": {
   "display_name": "Python 3 (ipykernel)",
   "language": "python",
   "name": "python3"
  },
  "language_info": {
   "codemirror_mode": {
    "name": "ipython",
    "version": 3
   },
   "file_extension": ".py",
   "mimetype": "text/x-python",
   "name": "python",
   "nbconvert_exporter": "python",
   "pygments_lexer": "ipython3",
   "version": "3.9.13"
  }
 },
 "nbformat": 4,
 "nbformat_minor": 5
}
