{
 "cells": [
  {
   "cell_type": "markdown",
   "id": "79c7a80a",
   "metadata": {},
   "source": [
    "# Andmetega tutvumine ja andmestiku puhastamine\n",
    "Andmed on kogutud bakalaureusetaseme ning integreeritud õppe tudengite kohta Tartu Ülikooli õppeinfosüsteemi poolt."
   ]
  },
  {
   "cell_type": "markdown",
   "id": "3a64418a",
   "metadata": {},
   "source": [
    "### 1. Ettevalmistused"
   ]
  },
  {
   "cell_type": "code",
   "execution_count": 1,
   "id": "e3603d75",
   "metadata": {},
   "outputs": [],
   "source": [
    "from pathlib import Path\n",
    "from sqlite3 import Timestamp\n",
    "import pandas as pd\n",
    "from collections import Counter"
   ]
  },
  {
   "cell_type": "code",
   "execution_count": 2,
   "id": "b950f210",
   "metadata": {},
   "outputs": [
    {
     "name": "stdout",
     "output_type": "stream",
     "text": [
      "Loaded data with timestamp None\n"
     ]
    }
   ],
   "source": [
    "# Esialgse andmestiku sisselugemine\n",
    "with open (\"../data/df_all_from_db.csv\", mode='r', encoding='utf-8') as f:\n",
    "    timestamp_line = f.readline().strip()\n",
    "    timestamp = timestamp_line.removeprefix(\"#\").lstrip() if timestamp_line.startswith(\"#\") else None\n",
    "df = pd.read_csv(\"../data/df_all_from_db.csv\", sep=',', skiprows=1 if timestamp else None)\n",
    "\n",
    "print(f\"Loaded data with timestamp {timestamp}\")"
   ]
  },
  {
   "cell_type": "code",
   "execution_count": 3,
   "id": "67fd52d5",
   "metadata": {},
   "outputs": [
    {
     "data": {
      "text/plain": [
       "(48524, 46)"
      ]
     },
     "execution_count": 3,
     "metadata": {},
     "output_type": "execute_result"
    }
   ],
   "source": [
    "# Ridade ja veergude arv\n",
    "df.shape"
   ]
  },
  {
   "cell_type": "code",
   "execution_count": 4,
   "id": "4d821244",
   "metadata": {},
   "outputs": [
    {
     "data": {
      "text/html": [
       "<div>\n",
       "<style scoped>\n",
       "    .dataframe tbody tr th:only-of-type {\n",
       "        vertical-align: middle;\n",
       "    }\n",
       "\n",
       "    .dataframe tbody tr th {\n",
       "        vertical-align: top;\n",
       "    }\n",
       "\n",
       "    .dataframe thead th {\n",
       "        text-align: right;\n",
       "    }\n",
       "</style>\n",
       "<table border=\"1\" class=\"dataframe\">\n",
       "  <thead>\n",
       "    <tr style=\"text-align: right;\">\n",
       "      <th></th>\n",
       "      <th>person.UUID</th>\n",
       "      <th>study.place.UUID</th>\n",
       "      <th>debug.study.place.ID</th>\n",
       "      <th>debug.student.matricula.nr</th>\n",
       "      <th>study.level</th>\n",
       "      <th>code.of.curriculum</th>\n",
       "      <th>curriculum.UUID</th>\n",
       "      <th>faculty.code</th>\n",
       "      <th>year_immatriculation</th>\n",
       "      <th>year_exmatriculation</th>\n",
       "      <th>semester_current</th>\n",
       "      <th>study_period_in_years</th>\n",
       "      <th>dropout</th>\n",
       "      <th>admission.special.conditions</th>\n",
       "      <th>prev.study.level</th>\n",
       "      <th>prev.study.level.factor</th>\n",
       "      <th>nr.of.previous.studies.in.UT</th>\n",
       "      <th>nr.of.previous.finished</th>\n",
       "      <th>normalized_score</th>\n",
       "      <th>cum.credits.earned</th>\n",
       "      <th>cum.extracurricular.credits</th>\n",
       "      <th>cum.all.results</th>\n",
       "      <th>cum.negative.results</th>\n",
       "      <th>cum.grade.A</th>\n",
       "      <th>cum.grade.B</th>\n",
       "      <th>cum.grade.C</th>\n",
       "      <th>cum.grade.D</th>\n",
       "      <th>cum.grade.E</th>\n",
       "      <th>cum.grade.F</th>\n",
       "      <th>cum.passed</th>\n",
       "      <th>cum.not.passed</th>\n",
       "      <th>cum.not.present</th>\n",
       "      <th>sum_passed_grade</th>\n",
       "      <th>sum_failed_grade</th>\n",
       "      <th>days.on.academic.leave</th>\n",
       "      <th>days.studying.abroad</th>\n",
       "      <th>days.as.visiting.student</th>\n",
       "      <th>credits.cancelled.during.2w</th>\n",
       "      <th>nr.of.courses.registered</th>\n",
       "      <th>nr.of.courses.with.any.grade</th>\n",
       "      <th>credits.registered</th>\n",
       "      <th>nr.of.employment.contracts</th>\n",
       "      <th>workload</th>\n",
       "      <th>total_economic_support</th>\n",
       "      <th>on.extended.study.period</th>\n",
       "      <th>active</th>\n",
       "    </tr>\n",
       "  </thead>\n",
       "  <tbody>\n",
       "    <tr>\n",
       "      <th>0</th>\n",
       "      <td>68608a39058158747812bf83f16fe430</td>\n",
       "      <td>9eef27d3d36a97395f48266609c1f842</td>\n",
       "      <td>699421</td>\n",
       "      <td>85314</td>\n",
       "      <td>514 Professional higher education programmes</td>\n",
       "      <td>146997</td>\n",
       "      <td>995f22629fcc2b38dc157f49913b8c53</td>\n",
       "      <td>HV</td>\n",
       "      <td>2022</td>\n",
       "      <td>2022</td>\n",
       "      <td>1.0</td>\n",
       "      <td>0</td>\n",
       "      <td>0</td>\n",
       "      <td>0.0</td>\n",
       "      <td>Master's programmes</td>\n",
       "      <td>0</td>\n",
       "      <td>3</td>\n",
       "      <td>0</td>\n",
       "      <td>0.16667</td>\n",
       "      <td>0.0</td>\n",
       "      <td>0.0</td>\n",
       "      <td>0</td>\n",
       "      <td>0</td>\n",
       "      <td>0</td>\n",
       "      <td>0</td>\n",
       "      <td>0</td>\n",
       "      <td>0</td>\n",
       "      <td>0</td>\n",
       "      <td>0</td>\n",
       "      <td>0</td>\n",
       "      <td>0</td>\n",
       "      <td>0</td>\n",
       "      <td>0</td>\n",
       "      <td>0</td>\n",
       "      <td>0</td>\n",
       "      <td>0</td>\n",
       "      <td>0</td>\n",
       "      <td>6.0</td>\n",
       "      <td>15</td>\n",
       "      <td>0</td>\n",
       "      <td>32.0</td>\n",
       "      <td>1</td>\n",
       "      <td>full</td>\n",
       "      <td>0.0</td>\n",
       "      <td>0</td>\n",
       "      <td>1</td>\n",
       "    </tr>\n",
       "    <tr>\n",
       "      <th>1</th>\n",
       "      <td>86b713d7610e1502cc9423ae877370cd</td>\n",
       "      <td>69ebe31838fa32f9173ff7b975f59410</td>\n",
       "      <td>296630</td>\n",
       "      <td>A40654</td>\n",
       "      <td>614 Master's programmes</td>\n",
       "      <td>2613</td>\n",
       "      <td>7bb31c839c3fcebd9f0affdf22a174bc</td>\n",
       "      <td>LT</td>\n",
       "      <td>2011</td>\n",
       "      <td>2011</td>\n",
       "      <td>1.0</td>\n",
       "      <td>0</td>\n",
       "      <td>1</td>\n",
       "      <td>0.0</td>\n",
       "      <td>Bachelor's programmes</td>\n",
       "      <td>0</td>\n",
       "      <td>2</td>\n",
       "      <td>1</td>\n",
       "      <td>0.10667</td>\n",
       "      <td>0.0</td>\n",
       "      <td>0.0</td>\n",
       "      <td>2</td>\n",
       "      <td>2</td>\n",
       "      <td>0</td>\n",
       "      <td>0</td>\n",
       "      <td>0</td>\n",
       "      <td>0</td>\n",
       "      <td>0</td>\n",
       "      <td>1</td>\n",
       "      <td>0</td>\n",
       "      <td>0</td>\n",
       "      <td>1</td>\n",
       "      <td>0</td>\n",
       "      <td>1</td>\n",
       "      <td>0</td>\n",
       "      <td>0</td>\n",
       "      <td>0</td>\n",
       "      <td>6.0</td>\n",
       "      <td>2</td>\n",
       "      <td>2</td>\n",
       "      <td>12.0</td>\n",
       "      <td>0</td>\n",
       "      <td>full</td>\n",
       "      <td>0.0</td>\n",
       "      <td>0</td>\n",
       "      <td>0</td>\n",
       "    </tr>\n",
       "    <tr>\n",
       "      <th>2</th>\n",
       "      <td>86b713d7610e1502cc9423ae877370cd</td>\n",
       "      <td>de4d25c1af13296909bb1e3bebf4274c</td>\n",
       "      <td>360580</td>\n",
       "      <td>A40654</td>\n",
       "      <td>614 Master's programmes</td>\n",
       "      <td>2613</td>\n",
       "      <td>7bb31c839c3fcebd9f0affdf22a174bc</td>\n",
       "      <td>LT</td>\n",
       "      <td>2013</td>\n",
       "      <td>2020</td>\n",
       "      <td>15.0</td>\n",
       "      <td>7</td>\n",
       "      <td>0</td>\n",
       "      <td>0.0</td>\n",
       "      <td>Bachelor's programmes</td>\n",
       "      <td>0</td>\n",
       "      <td>3</td>\n",
       "      <td>1</td>\n",
       "      <td>0.00000</td>\n",
       "      <td>84.0</td>\n",
       "      <td>15.0</td>\n",
       "      <td>21</td>\n",
       "      <td>3</td>\n",
       "      <td>3</td>\n",
       "      <td>3</td>\n",
       "      <td>1</td>\n",
       "      <td>1</td>\n",
       "      <td>1</td>\n",
       "      <td>1</td>\n",
       "      <td>9</td>\n",
       "      <td>0</td>\n",
       "      <td>2</td>\n",
       "      <td>18</td>\n",
       "      <td>1</td>\n",
       "      <td>2190</td>\n",
       "      <td>0</td>\n",
       "      <td>0</td>\n",
       "      <td>60.0</td>\n",
       "      <td>20</td>\n",
       "      <td>20</td>\n",
       "      <td>93.0</td>\n",
       "      <td>0</td>\n",
       "      <td>full</td>\n",
       "      <td>2300.0</td>\n",
       "      <td>0</td>\n",
       "      <td>0</td>\n",
       "    </tr>\n",
       "    <tr>\n",
       "      <th>3</th>\n",
       "      <td>150f47a5a2c037970e692e94705ca031</td>\n",
       "      <td>e1db61aea8e997dc9f273a2d4276ef76</td>\n",
       "      <td>358191</td>\n",
       "      <td>90702</td>\n",
       "      <td>614 Master's programmes</td>\n",
       "      <td>2549</td>\n",
       "      <td>03423eb4b662ed11afdc8302e3e57b24</td>\n",
       "      <td>HV</td>\n",
       "      <td>2013</td>\n",
       "      <td>2018</td>\n",
       "      <td>11.0</td>\n",
       "      <td>5</td>\n",
       "      <td>0</td>\n",
       "      <td>0.0</td>\n",
       "      <td>1-year teacher training programmes</td>\n",
       "      <td>0</td>\n",
       "      <td>3</td>\n",
       "      <td>1</td>\n",
       "      <td>0.00000</td>\n",
       "      <td>90.0</td>\n",
       "      <td>36.0</td>\n",
       "      <td>20</td>\n",
       "      <td>1</td>\n",
       "      <td>3</td>\n",
       "      <td>4</td>\n",
       "      <td>4</td>\n",
       "      <td>1</td>\n",
       "      <td>0</td>\n",
       "      <td>0</td>\n",
       "      <td>7</td>\n",
       "      <td>0</td>\n",
       "      <td>1</td>\n",
       "      <td>19</td>\n",
       "      <td>0</td>\n",
       "      <td>1096</td>\n",
       "      <td>0</td>\n",
       "      <td>0</td>\n",
       "      <td>43.0</td>\n",
       "      <td>21</td>\n",
       "      <td>20</td>\n",
       "      <td>99.0</td>\n",
       "      <td>0</td>\n",
       "      <td>full</td>\n",
       "      <td>0.0</td>\n",
       "      <td>0</td>\n",
       "      <td>0</td>\n",
       "    </tr>\n",
       "    <tr>\n",
       "      <th>4</th>\n",
       "      <td>2500a61304047bfeb131705672219356</td>\n",
       "      <td>237bc43dbd7405cb725d615fe1634d6d</td>\n",
       "      <td>450845</td>\n",
       "      <td>92664</td>\n",
       "      <td>511 Bachelor's programmes</td>\n",
       "      <td>2448</td>\n",
       "      <td>52c8137167fe84931bcd720a453ebd63</td>\n",
       "      <td>SV</td>\n",
       "      <td>2016</td>\n",
       "      <td>2017</td>\n",
       "      <td>3.0</td>\n",
       "      <td>1</td>\n",
       "      <td>1</td>\n",
       "      <td>0.0</td>\n",
       "      <td>Doctoral programmes</td>\n",
       "      <td>0</td>\n",
       "      <td>3</td>\n",
       "      <td>0</td>\n",
       "      <td>0.72804</td>\n",
       "      <td>77.0</td>\n",
       "      <td>17.0</td>\n",
       "      <td>21</td>\n",
       "      <td>0</td>\n",
       "      <td>15</td>\n",
       "      <td>2</td>\n",
       "      <td>0</td>\n",
       "      <td>0</td>\n",
       "      <td>0</td>\n",
       "      <td>0</td>\n",
       "      <td>4</td>\n",
       "      <td>0</td>\n",
       "      <td>0</td>\n",
       "      <td>21</td>\n",
       "      <td>0</td>\n",
       "      <td>0</td>\n",
       "      <td>0</td>\n",
       "      <td>0</td>\n",
       "      <td>46.5</td>\n",
       "      <td>21</td>\n",
       "      <td>21</td>\n",
       "      <td>77.0</td>\n",
       "      <td>0</td>\n",
       "      <td>full</td>\n",
       "      <td>500.0</td>\n",
       "      <td>0</td>\n",
       "      <td>0</td>\n",
       "    </tr>\n",
       "  </tbody>\n",
       "</table>\n",
       "</div>"
      ],
      "text/plain": [
       "                        person.UUID                  study.place.UUID  \\\n",
       "0  68608a39058158747812bf83f16fe430  9eef27d3d36a97395f48266609c1f842   \n",
       "1  86b713d7610e1502cc9423ae877370cd  69ebe31838fa32f9173ff7b975f59410   \n",
       "2  86b713d7610e1502cc9423ae877370cd  de4d25c1af13296909bb1e3bebf4274c   \n",
       "3  150f47a5a2c037970e692e94705ca031  e1db61aea8e997dc9f273a2d4276ef76   \n",
       "4  2500a61304047bfeb131705672219356  237bc43dbd7405cb725d615fe1634d6d   \n",
       "\n",
       "   debug.study.place.ID debug.student.matricula.nr  \\\n",
       "0                699421                      85314   \n",
       "1                296630                     A40654   \n",
       "2                360580                     A40654   \n",
       "3                358191                      90702   \n",
       "4                450845                      92664   \n",
       "\n",
       "                                    study.level  code.of.curriculum  \\\n",
       "0  514 Professional higher education programmes              146997   \n",
       "1                       614 Master's programmes                2613   \n",
       "2                       614 Master's programmes                2613   \n",
       "3                       614 Master's programmes                2549   \n",
       "4                     511 Bachelor's programmes                2448   \n",
       "\n",
       "                    curriculum.UUID faculty.code  year_immatriculation  \\\n",
       "0  995f22629fcc2b38dc157f49913b8c53           HV                  2022   \n",
       "1  7bb31c839c3fcebd9f0affdf22a174bc           LT                  2011   \n",
       "2  7bb31c839c3fcebd9f0affdf22a174bc           LT                  2013   \n",
       "3  03423eb4b662ed11afdc8302e3e57b24           HV                  2013   \n",
       "4  52c8137167fe84931bcd720a453ebd63           SV                  2016   \n",
       "\n",
       "   year_exmatriculation  semester_current  study_period_in_years  dropout  \\\n",
       "0                  2022               1.0                      0        0   \n",
       "1                  2011               1.0                      0        1   \n",
       "2                  2020              15.0                      7        0   \n",
       "3                  2018              11.0                      5        0   \n",
       "4                  2017               3.0                      1        1   \n",
       "\n",
       "   admission.special.conditions                    prev.study.level  \\\n",
       "0                           0.0                 Master's programmes   \n",
       "1                           0.0               Bachelor's programmes   \n",
       "2                           0.0               Bachelor's programmes   \n",
       "3                           0.0  1-year teacher training programmes   \n",
       "4                           0.0                 Doctoral programmes   \n",
       "\n",
       "   prev.study.level.factor  nr.of.previous.studies.in.UT  \\\n",
       "0                        0                             3   \n",
       "1                        0                             2   \n",
       "2                        0                             3   \n",
       "3                        0                             3   \n",
       "4                        0                             3   \n",
       "\n",
       "   nr.of.previous.finished  normalized_score  cum.credits.earned  \\\n",
       "0                        0           0.16667                 0.0   \n",
       "1                        1           0.10667                 0.0   \n",
       "2                        1           0.00000                84.0   \n",
       "3                        1           0.00000                90.0   \n",
       "4                        0           0.72804                77.0   \n",
       "\n",
       "   cum.extracurricular.credits  cum.all.results  cum.negative.results  \\\n",
       "0                          0.0                0                     0   \n",
       "1                          0.0                2                     2   \n",
       "2                         15.0               21                     3   \n",
       "3                         36.0               20                     1   \n",
       "4                         17.0               21                     0   \n",
       "\n",
       "   cum.grade.A  cum.grade.B  cum.grade.C  cum.grade.D  cum.grade.E  \\\n",
       "0            0            0            0            0            0   \n",
       "1            0            0            0            0            0   \n",
       "2            3            3            1            1            1   \n",
       "3            3            4            4            1            0   \n",
       "4           15            2            0            0            0   \n",
       "\n",
       "   cum.grade.F  cum.passed  cum.not.passed  cum.not.present  sum_passed_grade  \\\n",
       "0            0           0               0                0                 0   \n",
       "1            1           0               0                1                 0   \n",
       "2            1           9               0                2                18   \n",
       "3            0           7               0                1                19   \n",
       "4            0           4               0                0                21   \n",
       "\n",
       "   sum_failed_grade  days.on.academic.leave  days.studying.abroad  \\\n",
       "0                 0                       0                     0   \n",
       "1                 1                       0                     0   \n",
       "2                 1                    2190                     0   \n",
       "3                 0                    1096                     0   \n",
       "4                 0                       0                     0   \n",
       "\n",
       "   days.as.visiting.student  credits.cancelled.during.2w  \\\n",
       "0                         0                          6.0   \n",
       "1                         0                          6.0   \n",
       "2                         0                         60.0   \n",
       "3                         0                         43.0   \n",
       "4                         0                         46.5   \n",
       "\n",
       "   nr.of.courses.registered  nr.of.courses.with.any.grade  credits.registered  \\\n",
       "0                        15                             0                32.0   \n",
       "1                         2                             2                12.0   \n",
       "2                        20                            20                93.0   \n",
       "3                        21                            20                99.0   \n",
       "4                        21                            21                77.0   \n",
       "\n",
       "   nr.of.employment.contracts workload  total_economic_support  \\\n",
       "0                           1     full                     0.0   \n",
       "1                           0     full                     0.0   \n",
       "2                           0     full                  2300.0   \n",
       "3                           0     full                     0.0   \n",
       "4                           0     full                   500.0   \n",
       "\n",
       "   on.extended.study.period  active  \n",
       "0                         0       1  \n",
       "1                         0       0  \n",
       "2                         0       0  \n",
       "3                         0       0  \n",
       "4                         0       0  "
      ]
     },
     "execution_count": 4,
     "metadata": {},
     "output_type": "execute_result"
    }
   ],
   "source": [
    "pd.set_option('display.max_columns', 46)\n",
    "df.head()"
   ]
  },
  {
   "cell_type": "markdown",
   "id": "656369bb",
   "metadata": {},
   "source": [
    "### 2. Abimeetodite defineerimine"
   ]
  },
  {
   "cell_type": "code",
   "execution_count": 5,
   "id": "7eaba5d1",
   "metadata": {},
   "outputs": [],
   "source": [
    "def fillna(df_col, new_values):\n",
    "    na_count_before = df_col.isna().values.sum()\n",
    "    df_col.fillna(new_values, inplace=True)\n",
    "    na_count_after = df_col.isna().values.sum()\n",
    "    return na_count_before - na_count_after"
   ]
  },
  {
   "cell_type": "code",
   "execution_count": 6,
   "id": "cc97539e",
   "metadata": {},
   "outputs": [],
   "source": [
    "def write_timestamp(filename, timestamp):\n",
    "    print(f\"Output timestamp to {filename}\")\n",
    "    with open(filename, mode='w') as f:\n",
    "        f.write(timestamp or \"\")"
   ]
  },
  {
   "cell_type": "code",
   "execution_count": 7,
   "id": "278c97ab",
   "metadata": {},
   "outputs": [],
   "source": [
    "def validate_data(dataframe):\n",
    "    duplicates = [(k, v) for k, v in Counter(dataframe['study.place.UUID']).most_common() if v > 1]\n",
    "    if len(duplicates) > 0:\n",
    "        print(f\"Warning: {len(duplicates)} study place UUID-s appear more than once in the dataset\")\n",
    "    \n",
    "    missing_values = df.isna().values.sum()\n",
    "    if missing_values > 0:\n",
    "        raise AssertionError(f\"{missing_values} missing values in the dataset\")"
   ]
  },
  {
   "cell_type": "code",
   "execution_count": 8,
   "id": "ce05c1a3",
   "metadata": {},
   "outputs": [],
   "source": [
    "def write_data(filename, description, dataframe, *, index=False, rowcount=True):\n",
    "    print(f\"Output {description} to {filename}\" + (f\" ({len(dataframe)} rows)\" if rowcount else \"\"))\n",
    "    dataframe.to_csv(filename, index=index)\n",
    "    return len(dataframe)"
   ]
  },
  {
   "cell_type": "code",
   "execution_count": 9,
   "id": "42f90cd7",
   "metadata": {},
   "outputs": [],
   "source": [
    "# Exporting training and prediction data for each study level into separate files\n",
    "def output_data(df, study_level, timestamp):\n",
    "    # Create table describing data (cumulative metrics, missing values, etc)\n",
    "    desc = df.describe(include='all').transpose()\n",
    "    desc.insert(1, 'missing_count', len(df) - desc['count'])\n",
    "\n",
    "    Path(f\"./{study_level}\").mkdir(parents=True, exist_ok=True)\n",
    "\n",
    "    write_data(f\"./{study_level}/df_describe.csv\", \"descriptions\", desc, index=True, rowcount=False)\n",
    "    write_timestamp(f\"./{study_level}/df_timestamp.txt\", timestamp)\n",
    "\n",
    "    total = 0\n",
    "    total += write_data(f\"./{study_level}/df_training.csv\", \"training data\", df[df[\"active\"] != 1])\n",
    "    total += write_data(f\"./{study_level}/df_prediction.csv\", \"prediction data\", df[df[\"active\"] == 1])\n",
    "    return total"
   ]
  },
  {
   "cell_type": "code",
   "execution_count": 10,
   "id": "ed41055f",
   "metadata": {},
   "outputs": [],
   "source": [
    "def output_data_2(df, timestamp):\n",
    "    # Create table describing data (cumulative metrics, missing values, etc)\n",
    "    desc = df.describe(include='all').transpose()\n",
    "    desc.insert(1, 'missing_count', len(df) - desc['count'])\n",
    "\n",
    "\n",
    "    write_data(\"df_describe.csv\", \"descriptions\", desc, index=True, rowcount=False)\n",
    "    write_timestamp(\"df_timestamp.txt\", timestamp)\n",
    "\n",
    "    total = 0\n",
    "    \n",
    "    total += write_data(\"df_cleaned.csv\", \"cleaned data\", df)\n",
    "    return total"
   ]
  },
  {
   "cell_type": "markdown",
   "id": "27f1d2bd",
   "metadata": {},
   "source": [
    "### 3. Andmestiku puhastamine"
   ]
  },
  {
   "cell_type": "markdown",
   "id": "bf1e2249",
   "metadata": {},
   "source": [
    "#### 3.1. Teadaolevalt puuduvate (NaN) väärtuste täitmine\n",
    "*Filling known missing values.*"
   ]
  },
  {
   "cell_type": "code",
   "execution_count": 11,
   "id": "df1732b9",
   "metadata": {},
   "outputs": [
    {
     "name": "stdout",
     "output_type": "stream",
     "text": [
      "Filled 828 missing values in admission.special.conditions with 0.\n"
     ]
    }
   ],
   "source": [
    "filled_special_conditions = fillna(df['admission.special.conditions'], 0)\n",
    "print(f\"Filled {filled_special_conditions} missing values in admission.special.conditions with 0.\")"
   ]
  },
  {
   "cell_type": "code",
   "execution_count": 12,
   "id": "3f37ccca",
   "metadata": {},
   "outputs": [
    {
     "name": "stdout",
     "output_type": "stream",
     "text": [
      "Filled 862 missing values in normalized_score with curriculum average.\n",
      "Filled 284 missing values in normalized_score with faculty average.\n"
     ]
    }
   ],
   "source": [
    "norm_score_mean_per_curriculum = df.groupby('code.of.curriculum')['normalized_score'].transform('mean')\n",
    "norm_score_mean_per_faculty = df.groupby('faculty.code')['normalized_score'].transform('mean')\n",
    "filled_curriculum = fillna(df['normalized_score'], norm_score_mean_per_curriculum)\n",
    "filled_faculty = fillna(df['normalized_score'], norm_score_mean_per_faculty)\n",
    "print(f\"Filled {filled_curriculum} missing values in normalized_score with curriculum average.\")\n",
    "print(f\"Filled {filled_faculty} missing values in normalized_score with faculty average.\")"
   ]
  },
  {
   "cell_type": "markdown",
   "id": "4dce603d",
   "metadata": {},
   "source": [
    "#### 3.2. Uue veeru lisamine varasemate lõpetamata uuringute arvu jaoks\n",
    "*Adding a new column that contains information about the number of previous unfinished studies.*"
   ]
  },
  {
   "cell_type": "code",
   "execution_count": 13,
   "id": "a5065345",
   "metadata": {},
   "outputs": [],
   "source": [
    "df['nr.of.previous.unfinished'] = df['nr.of.previous.studies.in.UT'] - df['nr.of.previous.finished']"
   ]
  },
  {
   "cell_type": "markdown",
   "id": "c2333da9",
   "metadata": {},
   "source": [
    "#### 3.3. Enne esimese semestri algust eksmatrikuleeritud tudengitele vastavate ridade eemaldamine\n",
    "*Some missing values appear for people who were exmatriculated before the first semester began. Just dropping them for now.*\n"
   ]
  },
  {
   "cell_type": "code",
   "execution_count": 14,
   "id": "0be224b4",
   "metadata": {},
   "outputs": [
    {
     "name": "stdout",
     "output_type": "stream",
     "text": [
      "Removed 2 rows which contained missing values in semester_current column. Final length 48522 rows.\n"
     ]
    }
   ],
   "source": [
    "full_len = len(df)\n",
    "df.dropna(subset=['semester_current'], inplace=True)\n",
    "final_len = len(df)\n",
    "print(f\"Removed {full_len - final_len} rows which contained missing values in semester_current column. Final length {final_len} rows.\") "
   ]
  },
  {
   "cell_type": "markdown",
   "id": "a32c7e56",
   "metadata": {},
   "source": [
    "### 4. Identifikaatori lisamine\n",
    "*Adding a new identifier.*"
   ]
  },
  {
   "cell_type": "code",
   "execution_count": 15,
   "id": "dc5f0a81",
   "metadata": {},
   "outputs": [],
   "source": [
    "df = df.reset_index().rename(columns={'index':'id'})"
   ]
  },
  {
   "cell_type": "markdown",
   "id": "12b971a2",
   "metadata": {},
   "source": [
    "### 5. Andmete valideerimine\n",
    "*Data validation.*"
   ]
  },
  {
   "cell_type": "code",
   "execution_count": 16,
   "id": "6caed191",
   "metadata": {},
   "outputs": [
    {
     "name": "stdout",
     "output_type": "stream",
     "text": [
      "Warning: 7 study place UUID-s appear more than once in the dataset\n"
     ]
    }
   ],
   "source": [
    "validate_data(df)"
   ]
  },
  {
   "cell_type": "markdown",
   "id": "d91d65db",
   "metadata": {},
   "source": [
    "### 6. Klasside tasakaalustamatuse kontrollimine\n",
    "*Checking whether there is a class imbalance.*\n",
    "\n",
    "For imbalanced datasets, maximizing F-measure is better than maximizing accuracy. For example, majority\n",
    "class classifier has F-measure = 0.\n",
    "How to learn on imbalanced data?\n",
    "1. Undersampling – get rid of as many instances of dominant class as needed to roughly balance the\n",
    "dataset. By doing this, we lose a lot of data.\n",
    "2. Oversampling – make multiple copies of instances of the smaller class so that it would roughly balance\n",
    "the dataset.\n",
    "3. Augmentation – make slightly modified copies of instances of the smaller class so that it would roughly\n",
    "balance the dataset.\n",
    "4. Choosing an adequate performance estimate (for example F-measure)"
   ]
  },
  {
   "cell_type": "code",
   "execution_count": 17,
   "id": "7e334263",
   "metadata": {},
   "outputs": [
    {
     "data": {
      "text/plain": [
       "dropout\n",
       "0    40389\n",
       "1     8133\n",
       "dtype: int64"
      ]
     },
     "execution_count": 17,
     "metadata": {},
     "output_type": "execute_result"
    }
   ],
   "source": [
    "df.groupby(['dropout']).size()"
   ]
  },
  {
   "cell_type": "markdown",
   "id": "8ae4f8c4",
   "metadata": {},
   "source": [
    "### 7. Andmete eksportimine\n",
    "*Output data.*"
   ]
  },
  {
   "cell_type": "code",
   "execution_count": 19,
   "id": "cb622ebd",
   "metadata": {},
   "outputs": [
    {
     "name": "stdout",
     "output_type": "stream",
     "text": [
      "Output descriptions to ./../data/bachelor/df_describe.csv\n",
      "Output timestamp to ./../data/bachelor/df_timestamp.txt\n",
      "Output training data to ./../data/bachelor/df_training.csv (21692 rows)\n",
      "Output prediction data to ./../data/bachelor/df_prediction.csv (8712 rows)\n",
      "Output descriptions to ./../data/master/df_describe.csv\n",
      "Output timestamp to ./../data/master/df_timestamp.txt\n",
      "Output training data to ./../data/master/df_training.csv (13777 rows)\n",
      "Output prediction data to ./../data/master/df_prediction.csv (4341 rows)\n",
      "Output 48522 / 48522 rows in separate directories based on study level\n"
     ]
    }
   ],
   "source": [
    "total = 0\n",
    "total += output_data(df[df['study.level'].isin([\"511 Bachelor's programmes\", \"503 Integrated Bachelor's and Master's programmes\", \"514 Professional higher education programmes\"])], \"../data/bachelor\", timestamp)\n",
    "total += output_data(df[df['study.level'] == \"614 Master's programmes\"], \"../data/master\", timestamp)\n",
    "#total += output_data_2(df, timestamp)\n",
    "print(f\"Output {total} / {final_len} rows in separate directories based on study level\")\n",
    "#print(f\"Output {total} / {final_len} rows\")\n",
    "assert(total == final_len)"
   ]
  }
 ],
 "metadata": {
  "kernelspec": {
   "display_name": "Python 3 (ipykernel)",
   "language": "python",
   "name": "python3"
  },
  "language_info": {
   "codemirror_mode": {
    "name": "ipython",
    "version": 3
   },
   "file_extension": ".py",
   "mimetype": "text/x-python",
   "name": "python",
   "nbconvert_exporter": "python",
   "pygments_lexer": "ipython3",
   "version": "3.9.13"
  }
 },
 "nbformat": 4,
 "nbformat_minor": 5
}
