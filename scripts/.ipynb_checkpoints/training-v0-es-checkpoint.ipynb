{
 "cells": [
  {
   "cell_type": "code",
   "execution_count": null,
   "id": "f0a1b81c",
   "metadata": {},
   "outputs": [],
   "source": [
    "#This code in progress and npt working atm"
   ]
  },
  {
   "cell_type": "code",
   "execution_count": null,
   "id": "99a2997c",
   "metadata": {},
   "outputs": [],
   "source": [
    "# Load libraries\n",
    "import pandas as pd\n",
    "import matplotlib.pyplot as plt\n",
    "import seaborn as sns\n",
    "from sklearn.model_selection import train_test_split\n",
    "from sklearn.ensemble import RandomForestClassifier\n",
    "from sklearn.metrics import accuracy_score, confusion_matrix\n",
    "import sys\n",
    "sys.path.append(\"../study_ver_1.0\")\n"
   ]
  },
  {
   "cell_type": "code",
   "execution_count": 1,
   "id": "abb90971",
   "metadata": {},
   "outputs": [
    {
     "name": "stdout",
     "output_type": "stream",
     "text": [
      "/Users/esugis/Dropbox/Projects/study_analytics/study_ver_1.0/scripts\n"
     ]
    }
   ],
   "source": [
    "import os\n",
    "print(os.getcwd())"
   ]
  },
  {
   "cell_type": "code",
   "execution_count": null,
   "id": "7a0865a6",
   "metadata": {},
   "outputs": [],
   "source": [
    "import pickle\n",
    "\n",
    "# Load the data from the pickle file\n",
    "with open('../data/preprocessed_data.pk', 'rb') as f:\n",
    "    data = pickle.load(f)\n",
    "\n",
    "# Do something with the data\n",
    "print(data)"
   ]
  },
  {
   "cell_type": "markdown",
   "id": "e1364689",
   "metadata": {},
   "source": [
    "## !TODO We have imbalnced dataset, i.e. number of samples in droupout classes 1 and 0 are very different. Need to downsample dropout = 0, i.e. randomly choose matching students, who were not dropouts"
   ]
  },
  {
   "cell_type": "code",
   "execution_count": null,
   "id": "0b1c7b5d",
   "metadata": {},
   "outputs": [],
   "source": [
    "X = df.drop([\"dropout\"], axis=1)\n",
    "y = df[\"dropout\"]\n",
    "\n",
    "# Split data to train and test\n",
    "X_train, X_test, y_train, y_test = train_test_split(X, y, test_size=0.2, random_state=0)\n",
    "\n",
    "# Additionally split training data to actual training and validation\n",
    "#X_train, X_val, y_train, y_val = train_test_split(X_train, y_train, test_size=0.25, random_state=0)"
   ]
  },
  {
   "cell_type": "code",
   "execution_count": null,
   "id": "413715cf",
   "metadata": {},
   "outputs": [],
   "source": [
    "# Define parameters for grrid search, aka for optimising model parameters\n",
    "from sklearn.model_selection import GridSearchCV\n",
    "\n",
    "# Define the parameter grid to search over\n",
    "param_grid = {\n",
    "    'n_estimators': [100, 200, 300, 400, 500],\n",
    "    'max_depth': [5, 10, 15, 20, 25],\n",
    "    'min_samples_split': [2, 4, 6, 8, 10],\n",
    "    'min_samples_leaf': [1, 2, 4, 6, 8],\n",
    "    'max_features': ['auto', 'sqrt', 'log2', None],\n",
    "}"
   ]
  },
  {
   "cell_type": "markdown",
   "id": "64a37635",
   "metadata": {},
   "source": [
    "## !TODO update code using validation dataset for parameters search. Test on separate test."
   ]
  },
  {
   "cell_type": "code",
   "execution_count": null,
   "id": "d324a8d7",
   "metadata": {},
   "outputs": [],
   "source": [
    "# Define the RandomForestClassifier and the GridSearchCV object\n",
    "rf = RandomForestClassifier()\n",
    "# Perform grid search to find the best hyperparameters\n",
    "grid_search = GridSearchCV(estimator=rf, param_grid=param_grid, cv=5, n_jobs=-1)\n",
    "\n",
    "# Fit the GridSearchCV object to the training data\n",
    "grid_search.fit(X_train, y_train)\n",
    "\n",
    "# Print the best parameters and the best score\n",
    "print(\"Best parameters: \", grid_search.best_params_)\n",
    "print(\"Best cross-validation score: {:.2f}\".format(grid_search.best_score_))\n",
    "\n",
    "# Train the best model found by grid search on the full training set\n",
    "best_model = grid_search.best_estimator_\n",
    "best_model.fit(X_train, y_train)"
   ]
  },
  {
   "cell_type": "code",
   "execution_count": null,
   "id": "f482b288",
   "metadata": {},
   "outputs": [],
   "source": [
    "# Evaluate the best model on the test set\n",
    "test_accuracy = best_model.score(X_test, y_test)\n",
    "print(\"Test Accuracy:\", test_accuracy)"
   ]
  }
 ],
 "metadata": {
  "kernelspec": {
   "display_name": "Python 3 (ipykernel)",
   "language": "python",
   "name": "python3"
  },
  "language_info": {
   "codemirror_mode": {
    "name": "ipython",
    "version": 3
   },
   "file_extension": ".py",
   "mimetype": "text/x-python",
   "name": "python",
   "nbconvert_exporter": "python",
   "pygments_lexer": "ipython3",
   "version": "3.9.13"
  }
 },
 "nbformat": 4,
 "nbformat_minor": 5
}
