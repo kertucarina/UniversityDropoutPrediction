{
 "cells": [
  {
   "cell_type": "markdown",
   "id": "7dc97010",
   "metadata": {},
   "source": [
    "# Väljalangemisega tugevalt seotud funktsioonide leidmine\n",
    "*Finding features which are strongly correlated with dropout.*"
   ]
  },
  {
   "cell_type": "markdown",
   "id": "09d1e0f3",
   "metadata": {},
   "source": [
    "#### 1. Ettevalmistused"
   ]
  },
  {
   "cell_type": "code",
   "execution_count": 1,
   "id": "be11d23a",
   "metadata": {},
   "outputs": [],
   "source": [
    "import pandas as pd\n",
    "import numpy as np"
   ]
  },
  {
   "cell_type": "code",
   "execution_count": 2,
   "id": "a2589be3",
   "metadata": {},
   "outputs": [],
   "source": [
    "# Reading in the data\n",
    "df = pd.read_csv('../data/df_cleaned.csv')\n",
    "pd.set_option('display.max_columns', 47)\n",
    "#df.head()"
   ]
  },
  {
   "cell_type": "markdown",
   "id": "3887ae79",
   "metadata": {},
   "source": [
    "#### 2. Kõrgeimate absoluutsete korrelatsioonide leidmine\n",
    "*Finding the highest absolute correlations.*"
   ]
  },
  {
   "cell_type": "code",
   "execution_count": 3,
   "id": "6f41920f",
   "metadata": {},
   "outputs": [
    {
     "name": "stdout",
     "output_type": "stream",
     "text": [
      "cum.not.present                 0.258930\n",
      "cum.negative.results            0.254195\n",
      "sum_failed_grade                0.160554\n",
      "cum.grade.F                     0.147267\n",
      "cum.not.passed                  0.123601\n",
      "prev.study.level.factor         0.091341\n",
      "days.on.academic.leave          0.069695\n",
      "nr.of.previous.unfinished       0.061592\n",
      "nr.of.previous.studies.in.UT    0.020253\n",
      "admission.special.conditions   -0.004943\n",
      "days.as.visiting.student       -0.017513\n",
      "cum.grade.E                    -0.020328\n",
      "credits.cancelled.during.2w    -0.032097\n",
      "normalized_score               -0.059434\n",
      "nr.of.previous.finished        -0.060390\n",
      "nr.of.employment.contracts     -0.068597\n",
      "code.of.curriculum             -0.081637\n",
      "days.studying.abroad           -0.085989\n",
      "cum.grade.D                    -0.104435\n",
      "on.extended.study.period       -0.113010\n",
      "total_economic_support         -0.135218\n",
      "cum.extracurricular.credits    -0.156286\n",
      "study_period_in_years          -0.188723\n",
      "debug.study.place.ID           -0.194996\n",
      "year_immatriculation           -0.196055\n",
      "semester_current               -0.204956\n",
      "cum.grade.C                    -0.206121\n",
      "cum.all.results                -0.237887\n",
      "nr.of.courses.with.any.grade   -0.249691\n",
      "cum.passed                     -0.257962\n",
      "active                         -0.272223\n",
      "cum.grade.A                    -0.284695\n",
      "nr.of.courses.registered       -0.285358\n",
      "cum.grade.B                    -0.293743\n",
      "year_exmatriculation           -0.301935\n",
      "credits.registered             -0.315927\n",
      "sum_passed_grade               -0.330361\n",
      "cum.credits.earned             -0.361112\n",
      "Name: dropout, dtype: float64\n"
     ]
    }
   ],
   "source": [
    "pairwise_correlations = df.corr()\n",
    "corr_target = pairwise_correlations[\"dropout\"].sort_values(ascending=False)[1:]\n",
    "print(corr_target)"
   ]
  },
  {
   "cell_type": "markdown",
   "id": "b2186543",
   "metadata": {},
   "source": [
    "Üleval on näha seoseid tunnuste ja sihtmuutuja vahel. Nüüd vaatame, millised absoluutsed korrelatsioonid on kõige tugevamad.\n",
    "\n",
    "*Above we can see the correlations between features and the target variable. Now lets see, which absolute correlations are the strongest.*"
   ]
  },
  {
   "cell_type": "code",
   "execution_count": 4,
   "id": "a0675fc9",
   "metadata": {},
   "outputs": [
    {
     "name": "stdout",
     "output_type": "stream",
     "text": [
      "cum.credits.earned              0.361112\n",
      "sum_passed_grade                0.330361\n",
      "credits.registered              0.315927\n",
      "year_exmatriculation            0.301935\n",
      "cum.grade.B                     0.293743\n",
      "nr.of.courses.registered        0.285358\n",
      "cum.grade.A                     0.284695\n",
      "active                          0.272223\n",
      "cum.not.present                 0.258930\n",
      "cum.passed                      0.257962\n",
      "cum.negative.results            0.254195\n",
      "nr.of.courses.with.any.grade    0.249691\n",
      "cum.all.results                 0.237887\n",
      "cum.grade.C                     0.206121\n",
      "semester_current                0.204956\n",
      "year_immatriculation            0.196055\n",
      "debug.study.place.ID            0.194996\n",
      "study_period_in_years           0.188723\n",
      "sum_failed_grade                0.160554\n",
      "cum.extracurricular.credits     0.156286\n",
      "cum.grade.F                     0.147267\n",
      "total_economic_support          0.135218\n",
      "cum.not.passed                  0.123601\n",
      "on.extended.study.period        0.113010\n",
      "cum.grade.D                     0.104435\n",
      "prev.study.level.factor         0.091341\n",
      "days.studying.abroad            0.085989\n",
      "code.of.curriculum              0.081637\n",
      "days.on.academic.leave          0.069695\n",
      "nr.of.employment.contracts      0.068597\n",
      "nr.of.previous.unfinished       0.061592\n",
      "nr.of.previous.finished         0.060390\n",
      "normalized_score                0.059434\n",
      "credits.cancelled.during.2w     0.032097\n",
      "cum.grade.E                     0.020328\n",
      "nr.of.previous.studies.in.UT    0.020253\n",
      "days.as.visiting.student        0.017513\n",
      "admission.special.conditions    0.004943\n",
      "Name: dropout, dtype: float64\n"
     ]
    }
   ],
   "source": [
    "corr_abs = corr_target.copy()\n",
    "for i in range(len(corr_abs)):\n",
    "    corr_abs[i] = abs(corr_target[i])\n",
    "corr_abs = corr_abs.sort_values(ascending=False)\n",
    "print(corr_abs)"
   ]
  },
  {
   "cell_type": "markdown",
   "id": "6a49349d",
   "metadata": {},
   "source": [
    "Based on this data, the top features which are directly connected to dropout are:\n",
    "1. **cum.credits.earned** - aggregated earned credits (läbitud õppeainete maht EAP-des)\n",
    "2. **sum_passed_grade** - aggregated number of positive results (positiivsete tulemuste koguarv)\n",
    "3. **credits.registered** - aggregated number of registered credits (summaarne registreeritud EAP-de arv)\n",
    "4. *year_exmatriculation* - ei ole kindel, kas on päriselt relevantne, kuna kõigil praegustel tudengitel märgitud selle välja alla andmestiku allalaadimise aasta\n",
    "5. **cum.grade.B** - number of courses resulted in grade B (hindele B läbitud õppeainete arv)\n",
    "6. **nr.of.courses.registered** - aggregated number of registered courses (summaarne registreeritud kursuste arv)\n",
    "7. **cum.grade.A** - number of courses resulted in grade A (hindele A läbitud õppeainete arv)\n",
    "8. *active* - kas tudeng õpib praegu ülikoolis, ei tohiks ka relevantne olla\n",
    "9. **cum.not.present** - number of courses resulted in 'Not present' (tulemusega 'mitteilmunud' õppeainete arv)\n",
    "10. **cum.passed** - number of courses resulted in 'Pass' ( tulemusega 'arvestatud' õppeainete arv)\n",
    "11. **cum.negative.results** - aggregated negative course results (negatiivsete tulemuste koguarv)"
   ]
  }
 ],
 "metadata": {
  "kernelspec": {
   "display_name": "Python 3 (ipykernel)",
   "language": "python",
   "name": "python3"
  },
  "language_info": {
   "codemirror_mode": {
    "name": "ipython",
    "version": 3
   },
   "file_extension": ".py",
   "mimetype": "text/x-python",
   "name": "python",
   "nbconvert_exporter": "python",
   "pygments_lexer": "ipython3",
   "version": "3.9.13"
  }
 },
 "nbformat": 4,
 "nbformat_minor": 5
}
