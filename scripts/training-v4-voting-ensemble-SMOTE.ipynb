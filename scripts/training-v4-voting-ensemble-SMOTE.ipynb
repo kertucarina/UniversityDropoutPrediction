{
 "cells": [
  {
   "cell_type": "markdown",
   "id": "ccac8ee5",
   "metadata": {},
   "source": [
    "# Training the models - Ensemble Learning"
   ]
  },
  {
   "cell_type": "code",
   "execution_count": 1,
   "id": "310cd117",
   "metadata": {},
   "outputs": [],
   "source": [
    "import pandas as pd\n",
    "import numpy as np\n",
    "import xgboost as xgb\n",
    "import matplotlib.pyplot as plt\n",
    "\n",
    "from sklearn.model_selection import train_test_split\n",
    "from sklearn.metrics import accuracy_score, precision_score, recall_score, f1_score\n",
    "from sklearn.metrics import roc_auc_score, roc_curve\n",
    "\n",
    "from sklearn.ensemble import VotingClassifier\n",
    "from sklearn.ensemble import RandomForestClassifier\n",
    "from sklearn.linear_model import LogisticRegression\n",
    "\n",
    "from imblearn.over_sampling import SMOTE"
   ]
  },
  {
   "cell_type": "code",
   "execution_count": 2,
   "id": "2ef12c1e",
   "metadata": {},
   "outputs": [],
   "source": [
    "# Change file name (path) as necessary\n",
    "# Read the data\n",
    "df = pd.read_csv(\"../data/bachelor/df_training.csv\", sep=',')\n",
    "\n",
    "pd.set_option('display.max_columns', 47)\n",
    "#df.head()"
   ]
  },
  {
   "cell_type": "code",
   "execution_count": 3,
   "id": "0eef238e",
   "metadata": {},
   "outputs": [],
   "source": [
    "# Keep only certain features\n",
    "#drop_cols = ['admission.special.conditions', 'prev.study.level.factor', 'nr.of.employment.contracts', 'days.studying.abroad', 'workload', 'nr.of.previous.finished', 'days.as.visiting.student', 'active', 'nr.of.courses.with.any.grade', 'credits.registered', 'nr.of.courses.registered']\n",
    "#df = df.drop(drop_cols, axis=1)"
   ]
  },
  {
   "cell_type": "code",
   "execution_count": 4,
   "id": "bd736e70",
   "metadata": {},
   "outputs": [],
   "source": [
    "# Keep only students exmatriculated after 2020 (covid and post-covid)\n",
    "#df = df[df['year_exmatriculation'] >= 2020]\n",
    "#df.year_exmatriculation.value_counts()\n",
    "\n",
    "# Keep only students exmatriculated before 2020 (pre-covid)\n",
    "#df = df[df['year_exmatriculation'] < 2020]\n",
    "#df.shape"
   ]
  },
  {
   "cell_type": "code",
   "execution_count": 5,
   "id": "39e590d2",
   "metadata": {},
   "outputs": [
    {
     "data": {
      "text/plain": [
       "id                                int64\n",
       "person.UUID                      object\n",
       "study.place.UUID                 object\n",
       "debug.study.place.ID              int64\n",
       "debug.student.matricula.nr       object\n",
       "study.level                      object\n",
       "code.of.curriculum                int64\n",
       "curriculum.UUID                  object\n",
       "faculty.code                     object\n",
       "year_immatriculation              int64\n",
       "year_exmatriculation              int64\n",
       "semester_current                float64\n",
       "study_period_in_years             int64\n",
       "dropout                           int64\n",
       "admission.special.conditions    float64\n",
       "prev.study.level                 object\n",
       "prev.study.level.factor           int64\n",
       "nr.of.previous.studies.in.UT      int64\n",
       "nr.of.previous.finished           int64\n",
       "normalized_score                float64\n",
       "cum.credits.earned              float64\n",
       "cum.extracurricular.credits     float64\n",
       "cum.all.results                   int64\n",
       "cum.negative.results              int64\n",
       "cum.grade.A                       int64\n",
       "cum.grade.B                       int64\n",
       "cum.grade.C                       int64\n",
       "cum.grade.D                       int64\n",
       "cum.grade.E                       int64\n",
       "cum.grade.F                       int64\n",
       "cum.passed                        int64\n",
       "cum.not.passed                    int64\n",
       "cum.not.present                   int64\n",
       "sum_passed_grade                  int64\n",
       "sum_failed_grade                  int64\n",
       "days.on.academic.leave            int64\n",
       "days.studying.abroad              int64\n",
       "days.as.visiting.student          int64\n",
       "credits.cancelled.during.2w     float64\n",
       "nr.of.courses.registered          int64\n",
       "nr.of.courses.with.any.grade      int64\n",
       "credits.registered              float64\n",
       "nr.of.employment.contracts        int64\n",
       "workload                         object\n",
       "total_economic_support          float64\n",
       "on.extended.study.period          int64\n",
       "active                            int64\n",
       "nr.of.previous.unfinished         int64\n",
       "dtype: object"
      ]
     },
     "execution_count": 5,
     "metadata": {},
     "output_type": "execute_result"
    }
   ],
   "source": [
    "# Check data types\n",
    "df.dtypes"
   ]
  },
  {
   "cell_type": "code",
   "execution_count": 6,
   "id": "d811d7cc",
   "metadata": {},
   "outputs": [],
   "source": [
    "# Encode categorical features\n",
    "df[\"study.level\"] = df[\"study.level\"].astype('category')\n",
    "df[\"study.level\"] = df[\"study.level\"].cat.codes\n",
    "\n",
    "df[\"curriculum.UUID\"] = df[\"curriculum.UUID\"].astype('category')\n",
    "df[\"curriculum.UUID\"] = df[\"curriculum.UUID\"].cat.codes\n",
    "\n",
    "df[\"faculty.code\"] = df[\"faculty.code\"].astype('category')\n",
    "df[\"faculty.code\"] = df[\"faculty.code\"].cat.codes\n",
    "\n",
    "df[\"prev.study.level\"] = df[\"prev.study.level\"].astype('category')\n",
    "df[\"prev.study.level\"] = df[\"prev.study.level\"].cat.codes\n",
    "\n",
    "df[\"workload\"] = df[\"workload\"].astype('category')\n",
    "df[\"workload\"] = df[\"workload\"].cat.codes"
   ]
  },
  {
   "cell_type": "code",
   "execution_count": 7,
   "id": "ce01f1b5",
   "metadata": {},
   "outputs": [],
   "source": [
    "# Drop person.UUID, study.place.UUID, debug.study.place.ID and debug.student.matricula.nr,\n",
    "# because it's not reasonable to encode/use them.\n",
    "df = df.drop([\"person.UUID\", \"study.place.UUID\", \"debug.study.place.ID\", \"debug.student.matricula.nr\"], axis=1)"
   ]
  },
  {
   "cell_type": "markdown",
   "id": "be049ac4",
   "metadata": {},
   "source": [
    "#### Train/test split & oversampling with SMOTE"
   ]
  },
  {
   "cell_type": "code",
   "execution_count": 8,
   "id": "b087b735",
   "metadata": {},
   "outputs": [],
   "source": [
    "# Get X and y from data\n",
    "X = df.drop('dropout', axis=1)\n",
    "y = df['dropout']\n",
    "\n",
    "# Separate \n",
    "X_train, X_test, y_train, y_test = train_test_split(X, y, test_size=0.2, random_state=0)\n",
    "X_val, X_test, y_val, y_test = train_test_split(X_test, y_test, test_size=0.5, random_state=0)\n",
    "columns = X_train.columns"
   ]
  },
  {
   "cell_type": "code",
   "execution_count": 9,
   "id": "3d1cc343",
   "metadata": {},
   "outputs": [],
   "source": [
    "# Apply SMOTE\n",
    "os = SMOTE(random_state=0)\n",
    "X_train_os, y_train_os = os.fit_resample(X_train, y_train)\n",
    "X_train_os = pd.DataFrame(data=X_train_os, columns=columns )\n",
    "y_train_os = pd.DataFrame(data=y_train_os, columns=['dropout'])"
   ]
  },
  {
   "cell_type": "markdown",
   "id": "26c18402",
   "metadata": {},
   "source": [
    "### 1. Random Forest Classifier"
   ]
  },
  {
   "cell_type": "code",
   "execution_count": 10,
   "id": "a67739c0",
   "metadata": {},
   "outputs": [
    {
     "name": "stdout",
     "output_type": "stream",
     "text": [
      "Random forest F1-score: 0.7680722891566265\n"
     ]
    }
   ],
   "source": [
    "randomForest = RandomForestClassifier()\n",
    "randomForest.fit(X_train_os, np.ravel(y_train_os))\n",
    "\n",
    "randomForest_pred = randomForest.predict(X_val)\n",
    "\n",
    "randomForest_fscore = f1_score(y_val, randomForest_pred)\n",
    "print(\"Random forest F1-score:\", randomForest_fscore)"
   ]
  },
  {
   "cell_type": "markdown",
   "id": "d72291a5",
   "metadata": {},
   "source": [
    "### 2. Logistic Regression"
   ]
  },
  {
   "cell_type": "code",
   "execution_count": 11,
   "id": "68652d00",
   "metadata": {},
   "outputs": [
    {
     "name": "stdout",
     "output_type": "stream",
     "text": [
      "Logistic Regression F1-score: 0.750344827586207\n"
     ]
    },
    {
     "name": "stderr",
     "output_type": "stream",
     "text": [
      "/Users/Kertu/opt/anaconda3/lib/python3.9/site-packages/sklearn/linear_model/_logistic.py:814: ConvergenceWarning: lbfgs failed to converge (status=1):\n",
      "STOP: TOTAL NO. of ITERATIONS REACHED LIMIT.\n",
      "\n",
      "Increase the number of iterations (max_iter) or scale the data as shown in:\n",
      "    https://scikit-learn.org/stable/modules/preprocessing.html\n",
      "Please also refer to the documentation for alternative solver options:\n",
      "    https://scikit-learn.org/stable/modules/linear_model.html#logistic-regression\n",
      "  n_iter_i = _check_optimize_result(\n"
     ]
    }
   ],
   "source": [
    "logreg = LogisticRegression()\n",
    "logreg.fit(X_train_os, np.ravel(y_train_os))\n",
    "\n",
    "logreg_pred = logreg.predict(X_val)\n",
    "\n",
    "logreg_fscore = f1_score(y_val, logreg_pred)\n",
    "print(\"Logistic Regression F1-score:\", logreg_fscore)"
   ]
  },
  {
   "cell_type": "markdown",
   "id": "f1e5077e",
   "metadata": {},
   "source": [
    "### 3. XGBoost"
   ]
  },
  {
   "cell_type": "code",
   "execution_count": 12,
   "id": "8111d899",
   "metadata": {},
   "outputs": [
    {
     "name": "stdout",
     "output_type": "stream",
     "text": [
      "XGBoost F1-score: 0.7790940766550521\n"
     ]
    }
   ],
   "source": [
    "xgboost = xgb.XGBClassifier(max_depth=3, learning_rate=0.1, n_estimators=100, objective='binary:logistic')\n",
    "xgboost.fit(X_train_os, np.ravel(y_train_os))\n",
    "\n",
    "xgb_pred = xgboost.predict(X_val)\n",
    "\n",
    "xgb_fscore = f1_score(y_val, xgb_pred)\n",
    "print(\"XGBoost F1-score:\", xgb_fscore)"
   ]
  },
  {
   "cell_type": "markdown",
   "id": "27d62fad",
   "metadata": {},
   "source": [
    "### Ensemble model\n",
    "Creating a voting ensemble, where the predictions of each individual model are combined using a logistic regression model."
   ]
  },
  {
   "cell_type": "code",
   "execution_count": 13,
   "id": "2c631560",
   "metadata": {},
   "outputs": [
    {
     "name": "stdout",
     "output_type": "stream",
     "text": [
      "F1-score: 0.7804195804195804\n",
      "Accuracy: 0.855232826187183\n",
      "Precision: 0.6813186813186813\n",
      "Recall: 0.9132569558101473\n"
     ]
    }
   ],
   "source": [
    "# Get the predicted probabilities of each individual model\n",
    "rf_probs = randomForest.predict_proba(X_val)[:, 1]\n",
    "lr_probs = logreg.predict_proba(X_val)[:, 1]\n",
    "xgb_probs = xgboost.predict_proba(X_val)[:, 1]\n",
    "\n",
    "# Combine the predicted probabilities using logistic regression\n",
    "ensemble_probs = (rf_probs + lr_probs + xgb_probs) / 3\n",
    "ensemble_pred = (ensemble_probs > 0.5).astype(int)\n",
    "\n",
    "fscore = f1_score(y_val, ensemble_pred)\n",
    "accuracy = accuracy_score(y_val, ensemble_pred)\n",
    "precision = precision_score(y_val, ensemble_pred)\n",
    "recall = recall_score(y_val, ensemble_pred)\n",
    "\n",
    "print(\"F1-score:\", fscore)\n",
    "print(\"Accuracy:\", accuracy)\n",
    "print(\"Precision:\", precision)\n",
    "print(\"Recall:\", recall)"
   ]
  },
  {
   "cell_type": "markdown",
   "id": "5292ac8d",
   "metadata": {},
   "source": [
    "### Analysis on test data"
   ]
  },
  {
   "cell_type": "code",
   "execution_count": 14,
   "id": "fc12cf7c",
   "metadata": {
    "scrolled": true
   },
   "outputs": [
    {
     "name": "stdout",
     "output_type": "stream",
     "text": [
      "F1-score: 0.7597840755735492\n",
      "Accuracy: 0.8359447004608295\n",
      "Precision: 0.6607981220657277\n",
      "Recall: 0.8936507936507937\n"
     ]
    }
   ],
   "source": [
    "# Get the predicted probabilities of each individual model\n",
    "rf_probs = randomForest.predict_proba(X_test)[:, 1]\n",
    "lr_probs = logreg.predict_proba(X_test)[:, 1]\n",
    "xgb_probs = xgboost.predict_proba(X_test)[:, 1]\n",
    "\n",
    "# Combine the predicted probabilities using logistic regression\n",
    "ensemble_probs = (rf_probs + lr_probs + xgb_probs) / 3\n",
    "ensemble_pred = (ensemble_probs > 0.5).astype(int)\n",
    "\n",
    "fscore = f1_score(y_test, ensemble_pred)\n",
    "accuracy = accuracy_score(y_test, ensemble_pred)\n",
    "precision = precision_score(y_test, ensemble_pred)\n",
    "recall = recall_score(y_test, ensemble_pred)\n",
    "\n",
    "print(\"F1-score:\", fscore)\n",
    "print(\"Accuracy:\", accuracy)\n",
    "print(\"Precision:\", precision)\n",
    "print(\"Recall:\", recall)"
   ]
  },
  {
   "cell_type": "code",
   "execution_count": 15,
   "id": "94e4760a",
   "metadata": {},
   "outputs": [
    {
     "data": {
      "image/png": "[encoded data removed]",
      "text/plain": [
       "<Figure size 640x480 with 1 Axes>"
      ]
     },
     "metadata": {},
     "output_type": "display_data"
    }
   ],
   "source": [
    "# Compute ROC curve and ROC-AUC score\n",
    "fpr, tpr, thresholds = roc_curve(y_test, ensemble_probs)\n",
    "roc_auc = roc_auc_score(y_test, ensemble_probs)\n",
    "\n",
    "# Plot ROC curve\n",
    "plt.plot(fpr, tpr, label='ROC curve (AUC = %0.2f)' % roc_auc)\n",
    "plt.plot([0, 1], [0, 1], linestyle='--', color='gray', label='Random guessing')\n",
    "plt.xlabel('False Positive Rate')\n",
    "plt.ylabel('True Positive Rate')\n",
    "plt.title('Ensemble Model Receiver Operating Characteristic')\n",
    "plt.legend()\n",
    "plt.show()"
   ]
  }
 ],
 "metadata": {
  "kernelspec": {
   "display_name": "Python 3 (ipykernel)",
   "language": "python",
   "name": "python3"
  },
  "language_info": {
   "codemirror_mode": {
    "name": "ipython",
    "version": 3
   },
   "file_extension": ".py",
   "mimetype": "text/x-python",
   "name": "python",
   "nbconvert_exporter": "python",
   "pygments_lexer": "ipython3",
   "version": "3.9.13"
  }
 },
 "nbformat": 4,
 "nbformat_minor": 5
}
